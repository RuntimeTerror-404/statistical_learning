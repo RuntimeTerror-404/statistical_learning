{
  "metadata": {
    "kernelspec": {
      "name": "python",
      "display_name": "Python (Pyodide)",
      "language": "python"
    },
    "language_info": {
      "codemirror_mode": {
        "name": "python",
        "version": 3
      },
      "file_extension": ".py",
      "mimetype": "text/x-python",
      "name": "python",
      "nbconvert_exporter": "python",
      "pygments_lexer": "ipython3",
      "version": "3.8"
    }
  },
  "nbformat_minor": 4,
  "nbformat": 4,
  "cells": [
    {
      "cell_type": "code",
      "source": "x = 16\nprint('fit a modal with ', x, 'variables');\nprint('fit a modal with ', 20, 'variables');",
      "metadata": {
        "trusted": true
      },
      "outputs": [
        {
          "name": "stdout",
          "text": "fit a modal with  16 variables\nfit a modal with  20 variables\n",
          "output_type": "stream"
        }
      ],
      "execution_count": 1
    },
    {
      "cell_type": "code",
      "source": "def sum(x,y):\n    return x+y;\n\nresult = sum(10, 13);\nprint(result)\n\ndef infoo(p1, p2):\n    if(p1 == p2):\n        print(f\"{p1} and {p2} are equal\");\n    else:\n        print(f\"{p1} and {p2} are not equal\");\n        \ninfoo(20, 20);",
      "metadata": {
        "trusted": true
      },
      "outputs": [
        {
          "name": "stdout",
          "text": "23\n20 and 20 are equal\n",
          "output_type": "stream"
        }
      ],
      "execution_count": 7
    },
    {
      "cell_type": "code",
      "source": "arr1 = [3, 1, 0, 7];\narr2 = [5, 12, 9];\narr1+arr2\narr2",
      "metadata": {
        "trusted": true
      },
      "outputs": [
        {
          "execution_count": 11,
          "output_type": "execute_result",
          "data": {
            "text/plain": "[5, 12, 9]"
          },
          "metadata": {}
        }
      ],
      "execution_count": 11
    },
    {
      "cell_type": "code",
      "source": "#import packages\n# NumPy = Numerical Python\nimport numpy as np;",
      "metadata": {
        "trusted": true
      },
      "outputs": [],
      "execution_count": 14
    },
    {
      "cell_type": "code",
      "source": "# numpy arrays are multidimesnional in nature by default\nx = np.array([11, 9, 18]);\ny = np.array([9, 23, 7]);\nx+y\nx.shape",
      "metadata": {
        "trusted": true
      },
      "outputs": [
        {
          "execution_count": 277,
          "output_type": "execute_result",
          "data": {
            "text/plain": "(3,)"
          },
          "metadata": {}
        }
      ],
      "execution_count": 277
    },
    {
      "cell_type": "code",
      "source": "# in numpy, matrices are typically represented as 2-D arrays and vectors are respresented as 1-D arrays\nx = np.array([\n    [2, 8],\n    [7, 4]\n])\nx",
      "metadata": {
        "trusted": true
      },
      "outputs": [
        {
          "execution_count": 20,
          "output_type": "execute_result",
          "data": {
            "text/plain": "array([[2, 8],\n       [7, 4]])"
          },
          "metadata": {}
        }
      ],
      "execution_count": 20
    },
    {
      "cell_type": "code",
      "source": "# numpy array has multiple attributes to explore array information\nx.ndim  # ndim used to track dimensions of array\nx.dtype",
      "metadata": {
        "trusted": true
      },
      "outputs": [
        {
          "execution_count": 23,
          "output_type": "execute_result",
          "data": {
            "text/plain": "dtype('int32')"
          },
          "metadata": {}
        }
      ],
      "execution_count": 23
    },
    {
      "cell_type": "code",
      "source": "x = np.array([4.9, 11, 20, 32.19]);\nx.dtype",
      "metadata": {
        "trusted": true
      },
      "outputs": [
        {
          "execution_count": 24,
          "output_type": "execute_result",
          "data": {
            "text/plain": "dtype('float64')"
          },
          "metadata": {}
        }
      ],
      "execution_count": 24
    },
    {
      "cell_type": "code",
      "source": "# np.array? for documentation\nx = np.array([\n    [34, 90, 11],\n    [23, 43, 19]\n])\nx.shape",
      "metadata": {
        "trusted": true
      },
      "outputs": [
        {
          "execution_count": 27,
          "output_type": "execute_result",
          "data": {
            "text/plain": "(2, 3)"
          },
          "metadata": {}
        }
      ],
      "execution_count": 27
    },
    {
      "cell_type": "code",
      "source": "# a method is a function that is associalted with particular object,  sum() is method used to give sum of all elements\nx.sum()",
      "metadata": {
        "trusted": true
      },
      "outputs": [
        {
          "execution_count": 29,
          "output_type": "execute_result",
          "data": {
            "text/plain": "220"
          },
          "metadata": {}
        }
      ],
      "execution_count": 29
    },
    {
      "cell_type": "code",
      "source": "np.sum(x)",
      "metadata": {
        "trusted": true
      },
      "outputs": [
        {
          "execution_count": 30,
          "output_type": "execute_result",
          "data": {
            "text/plain": "220"
          },
          "metadata": {}
        }
      ],
      "execution_count": 30
    },
    {
      "cell_type": "code",
      "source": "# reshape method return new array with needed dimensions.",
      "metadata": {
        "trusted": true
      },
      "outputs": [],
      "execution_count": 31
    },
    {
      "cell_type": "code",
      "source": "prev_x = np.array([56, 34, 69, 11]);\nprint(\"current array: \\n\", prev_x);\nreshaped_x = prev_x.reshape(2,2);\nprint(\"reshaped array: \\n\", reshaped_x)",
      "metadata": {
        "trusted": true
      },
      "outputs": [
        {
          "name": "stdout",
          "text": "current array: \n [56 34 69 11]\nreshaped array: \n [[56 34]\n [69 11]]\n",
          "output_type": "stream"
        }
      ],
      "execution_count": 32
    },
    {
      "cell_type": "code",
      "source": "reshaped_x.ndim",
      "metadata": {
        "trusted": true
      },
      "outputs": [
        {
          "execution_count": 33,
          "output_type": "execute_result",
          "data": {
            "text/plain": "2"
          },
          "metadata": {}
        }
      ],
      "execution_count": 33
    },
    {
      "cell_type": "code",
      "source": "# attribute T is used to transpose the the matrice(np array)\nreshaped_x.T\n",
      "metadata": {
        "trusted": true
      },
      "outputs": [
        {
          "execution_count": 37,
          "output_type": "execute_result",
          "data": {
            "text/plain": "array([[56, 69],\n       [34, 11]])"
          },
          "metadata": {}
        }
      ],
      "execution_count": 37
    },
    {
      "cell_type": "code",
      "source": "# sqrt method used to fetch sq root values of elements in array\nnp.sqrt(reshaped_x)",
      "metadata": {
        "trusted": true
      },
      "outputs": [
        {
          "execution_count": 42,
          "output_type": "execute_result",
          "data": {
            "text/plain": "array([[7.48331477, 5.83095189],\n       [8.30662386, 3.31662479]])"
          },
          "metadata": {}
        }
      ],
      "execution_count": 42
    },
    {
      "cell_type": "code",
      "source": "reshaped_x**2",
      "metadata": {
        "trusted": true
      },
      "outputs": [
        {
          "execution_count": 43,
          "output_type": "execute_result",
          "data": {
            "text/plain": "array([[3136, 1156],\n       [4761,  121]])"
          },
          "metadata": {}
        }
      ],
      "execution_count": 43
    },
    {
      "cell_type": "code",
      "source": "# another way to get sq root value\nreshaped_x**0.5",
      "metadata": {
        "trusted": true
      },
      "outputs": [
        {
          "execution_count": 48,
          "output_type": "execute_result",
          "data": {
            "text/plain": "array([[7.48331477, 5.83095189],\n       [8.30662386, 3.31662479]])"
          },
          "metadata": {}
        }
      ],
      "execution_count": 48
    },
    {
      "cell_type": "code",
      "source": "newx = np.random.normal(loc=5, scale=5, size=10)\n# loc=mean, scale=st. deviation, size=elements\nnewx",
      "metadata": {
        "trusted": true
      },
      "outputs": [
        {
          "execution_count": 63,
          "output_type": "execute_result",
          "data": {
            "text/plain": "array([10.23692089,  7.98518184, 10.20399154,  1.1572418 ,  6.99171245,\n        6.72099378, -4.80974722, 11.16869996, -4.1148856 ,  6.63997261])"
          },
          "metadata": {}
        }
      ],
      "execution_count": 63
    },
    {
      "cell_type": "code",
      "source": "# default_rng = random number generator.\nrng = np.random.default_rng(30);\nprint(rng.normal(loc=10, scale=5, size=5))",
      "metadata": {
        "trusted": true
      },
      "outputs": [
        {
          "name": "stdout",
          "text": "[17.87320572 13.71641693  5.15055591  8.93997775  8.5663504 ]\n",
          "output_type": "stream"
        }
      ],
      "execution_count": 71
    },
    {
      "cell_type": "code",
      "source": "# generate array of 10 numbers with standard normal distribution\nrng = np.random.default_rng(3);\ny = rng.standard_normal(10);\ny.mean()\nnp.mean(y)\ny",
      "metadata": {
        "trusted": true
      },
      "outputs": [
        {
          "execution_count": 75,
          "output_type": "execute_result",
          "data": {
            "text/plain": "array([ 2.04091912, -2.55566503,  0.41809885, -0.56776961, -0.45264929,\n       -0.21559716, -2.01998613, -0.23193238, -0.86521308,  3.32299952])"
          },
          "metadata": {}
        }
      ],
      "execution_count": 75
    },
    {
      "cell_type": "code",
      "source": "# np.mean(), np.var(), np.std()\n\nrng = np.random.default_rng(3)\ntest_arr = rng.normal(size=10)\ntest_arr",
      "metadata": {
        "trusted": true
      },
      "outputs": [
        {
          "execution_count": 77,
          "output_type": "execute_result",
          "data": {
            "text/plain": "array([ 2.04091912, -2.55566503,  0.41809885, -0.56776961, -0.45264929,\n       -0.21559716, -2.01998613, -0.23193238, -0.86521308,  3.32299952])"
          },
          "metadata": {}
        }
      ],
      "execution_count": 77
    },
    {
      "cell_type": "code",
      "source": "test_arr.mean()\ntest_arr.var()\ntest_arr.std()",
      "metadata": {
        "trusted": true
      },
      "outputs": [
        {
          "execution_count": 81,
          "output_type": "execute_result",
          "data": {
            "text/plain": "1.6505576756498128"
          },
          "metadata": {}
        }
      ],
      "execution_count": 81
    },
    {
      "cell_type": "code",
      "source": "rng = np.random.default_rng(5);\nnormal_arr = rng.standard_normal(10)\nnormal_arr.mean(), normal_arr.var()",
      "metadata": {
        "trusted": true
      },
      "outputs": [
        {
          "execution_count": 85,
          "output_type": "execute_result",
          "data": {
            "text/plain": "(0.03376472647127897, 0.8081150197917075)"
          },
          "metadata": {}
        }
      ],
      "execution_count": 85
    },
    {
      "cell_type": "code",
      "source": "x = rng.standard_normal((3, 3))\nx",
      "metadata": {
        "trusted": true
      },
      "outputs": [
        {
          "execution_count": 87,
          "output_type": "execute_result",
          "data": {
            "text/plain": "array([[ 1.1702961 ,  0.71658766, -1.99781669],\n       [ 0.27212887, -1.10171663,  0.03305722],\n       [ 0.04363199, -1.98842979, -0.23342252]])"
          },
          "metadata": {}
        }
      ],
      "execution_count": 87
    },
    {
      "cell_type": "code",
      "source": "x.mean(axis=0)\n",
      "metadata": {
        "tags": [],
        "trusted": true
      },
      "outputs": [
        {
          "execution_count": 89,
          "output_type": "execute_result",
          "data": {
            "text/plain": "array([ 0.49535232, -0.79118625, -0.73272733])"
          },
          "metadata": {}
        }
      ],
      "execution_count": 89
    },
    {
      "cell_type": "code",
      "source": "rng_a = np.random.default_rng(8);\nrng_b = np.random.default_rng(9);\nprint(rng_a.standard_normal(5));\nprint(rng_b.standard_normal(8));",
      "metadata": {
        "trusted": true
      },
      "outputs": [
        {
          "name": "stdout",
          "text": "[-1.7382664  -1.33664279 -1.36110671 -0.35161713 -2.31258158]\n[-0.80283694  0.24284991 -1.65634543  0.65610488  1.14345302 -0.452611\n  0.43048575  0.25093257]\n",
          "output_type": "stream"
        }
      ],
      "execution_count": 94
    },
    {
      "cell_type": "code",
      "source": "rng_a2 = rng_a.standard_normal(9)\nprint(rng_a2)",
      "metadata": {
        "trusted": true
      },
      "outputs": [
        {
          "name": "stdout",
          "text": "[-0.1888972  -0.95722923  0.89360018  0.95684724  1.39225823  0.76747011\n -0.05302978  0.85979399  1.50548116]\n",
          "output_type": "stream"
        }
      ],
      "execution_count": 95
    },
    {
      "cell_type": "code",
      "source": "# Graphics...........",
      "metadata": {
        "trusted": true
      },
      "outputs": [],
      "execution_count": 96
    },
    {
      "cell_type": "code",
      "source": "from matplotlib.pyplot import subplots\nfig, ax = subplots(figsize=(4,4))\nx = rng.standard_normal(20)\ny = rng.standard_normal(20)\nax.plot(x, y)",
      "metadata": {
        "trusted": true
      },
      "outputs": [
        {
          "execution_count": 102,
          "output_type": "execute_result",
          "data": {
            "text/plain": "[<matplotlib.lines.Line2D at 0x3e95938>]"
          },
          "metadata": {}
        },
        {
          "output_type": "display_data",
          "data": {
            "text/plain": "<Figure size 400x400 with 1 Axes>",
            "image/png": "[encoded data removed]"
          },
          "metadata": {}
        }
      ],
      "execution_count": 102
    },
    {
      "cell_type": "code",
      "source": "# subplots returns a tuple length of 2: figure object and a relevant axis object\na1 = [3, 9, 6, 5, 6];\na2 = [8, 7, 2, 5, 1];\noutput = subplots(figsize=(3,3))\nax = output[1];\nfigure = output[0];\nax.plot(a1, a2, 'r')\n# third parameter is for different color or line nature",
      "metadata": {
        "trusted": true
      },
      "outputs": [
        {
          "execution_count": 129,
          "output_type": "execute_result",
          "data": {
            "text/plain": "[<matplotlib.lines.Line2D at 0x57daef8>]"
          },
          "metadata": {}
        },
        {
          "output_type": "display_data",
          "data": {
            "text/plain": "<Figure size 300x300 with 1 Axes>",
            "image/png": "[encoded data removed]"
          },
          "metadata": {}
        }
      ],
      "execution_count": 129
    },
    {
      "cell_type": "code",
      "source": "ax.scatter(x,y, marker='o')",
      "metadata": {
        "trusted": true
      },
      "outputs": [
        {
          "execution_count": 130,
          "output_type": "execute_result",
          "data": {
            "text/plain": "<matplotlib.collections.PathCollection at 0x57ebfc8>"
          },
          "metadata": {}
        }
      ],
      "execution_count": 130
    },
    {
      "cell_type": "code",
      "source": "ax.set_xlabel(\"this is the x-axis\")\nax.set_ylabel(\"this is the y-axis\")\nax.set_title(\"Plot of X vs Y\")",
      "metadata": {
        "trusted": true
      },
      "outputs": [
        {
          "execution_count": 131,
          "output_type": "execute_result",
          "data": {
            "text/plain": "Text(0.5, 1.0, 'Plot of X vs Y')"
          },
          "metadata": {}
        }
      ],
      "execution_count": 131
    },
    {
      "cell_type": "code",
      "source": "ax.plot(a1, a2)",
      "metadata": {
        "trusted": true
      },
      "outputs": [
        {
          "execution_count": 132,
          "output_type": "execute_result",
          "data": {
            "text/plain": "[<matplotlib.lines.Line2D at 0x57aea68>]"
          },
          "metadata": {}
        }
      ],
      "execution_count": 132
    },
    {
      "cell_type": "code",
      "source": "fig.set_size_inches(6,3)\nfig",
      "metadata": {
        "trusted": true
      },
      "outputs": [
        {
          "execution_count": 134,
          "output_type": "execute_result",
          "data": {
            "text/plain": "<Figure size 600x300 with 1 Axes>",
            "image/png": "[encoded data removed]"
          },
          "metadata": {}
        }
      ],
      "execution_count": 134
    },
    {
      "cell_type": "code",
      "source": "# multiple plots in a single figure object\n\nfig, axes = subplots(nrows=2, ncols=2, figsize=(10, 5))\n\naxes[0,1].plot(a1, a2, marker='o')\naxes[1,0].scatter(a1, a2, marker='+')",
      "metadata": {
        "trusted": true
      },
      "outputs": [
        {
          "execution_count": 159,
          "output_type": "execute_result",
          "data": {
            "text/plain": "<matplotlib.collections.PathCollection at 0x784d980>"
          },
          "metadata": {}
        },
        {
          "output_type": "display_data",
          "data": {
            "text/plain": "<Figure size 1000x500 with 4 Axes>",
            "image/png": "[encoded data removed]"
          },
          "metadata": {}
        }
      ],
      "execution_count": 159
    },
    {
      "cell_type": "code",
      "source": "# to save the figure of plot\n# fig.savefig('Figure-1.png', dpi=400)\n# fig.savefig('figure-2.pdf', dpi=100)",
      "metadata": {
        "trusted": true
      },
      "outputs": [],
      "execution_count": 161
    },
    {
      "cell_type": "code",
      "source": "# Sequence and Slice Notation",
      "metadata": {
        "trusted": true
      },
      "outputs": [],
      "execution_count": 162
    },
    {
      "cell_type": "code",
      "source": "# np.linspace is used to create sequence of numbers",
      "metadata": {
        "trusted": true
      },
      "outputs": [],
      "execution_count": 163
    },
    {
      "cell_type": "code",
      "source": "# linspace has three params: start value, end value, total values\nsq1 = np.linspace(1,100,15)\nsq1",
      "metadata": {
        "trusted": true
      },
      "outputs": [
        {
          "execution_count": 169,
          "output_type": "execute_result",
          "data": {
            "text/plain": "array([  1.        ,   8.07142857,  15.14285714,  22.21428571,\n        29.28571429,  36.35714286,  43.42857143,  50.5       ,\n        57.57142857,  64.64285714,  71.71428571,  78.78571429,\n        85.85714286,  92.92857143, 100.        ])"
          },
          "metadata": {}
        }
      ],
      "execution_count": 169
    },
    {
      "cell_type": "code",
      "source": "# np.arange() is also used to create sequence of numbers \n# arange() has three params: start value, end value and steps between values\narg = np.arange(1, 100, 10)\narg",
      "metadata": {
        "trusted": true
      },
      "outputs": [
        {
          "execution_count": 175,
          "output_type": "execute_result",
          "data": {
            "text/plain": "array([ 1, 11, 21, 31, 41, 51, 61, 71, 81, 91])"
          },
          "metadata": {}
        }
      ],
      "execution_count": 175
    },
    {
      "cell_type": "code",
      "source": "# slice method in numpy\n\"Hello World\"[1:5]\n\nstr = \"My name is Mohit\";\nprint(str[5:9])\n\narr = [34, 19, 21, 76, 45, 67, 98, 32, 46]\narr[:3]",
      "metadata": {
        "trusted": true
      },
      "outputs": [
        {
          "name": "stdout",
          "text": "me i\n",
          "output_type": "stream"
        },
        {
          "execution_count": 183,
          "output_type": "execute_result",
          "data": {
            "text/plain": "[34, 19, 21]"
          },
          "metadata": {}
        }
      ],
      "execution_count": 183
    },
    {
      "cell_type": "code",
      "source": "# indexing data using np.array\nA = np.array(np.arange(16).reshape(4,4))\nA",
      "metadata": {
        "trusted": true
      },
      "outputs": [
        {
          "execution_count": 237,
          "output_type": "execute_result",
          "data": {
            "text/plain": "array([[ 0,  1,  2,  3],\n       [ 4,  5,  6,  7],\n       [ 8,  9, 10, 11],\n       [12, 13, 14, 15]])"
          },
          "metadata": {}
        }
      ],
      "execution_count": 237
    },
    {
      "cell_type": "code",
      "source": "A[1:4]",
      "metadata": {
        "trusted": true
      },
      "outputs": [
        {
          "execution_count": 227,
          "output_type": "execute_result",
          "data": {
            "text/plain": "[11, 34, 31]"
          },
          "metadata": {}
        }
      ],
      "execution_count": 227
    },
    {
      "cell_type": "code",
      "source": "A[1,2]",
      "metadata": {
        "trusted": true
      },
      "outputs": [
        {
          "execution_count": 229,
          "output_type": "execute_result",
          "data": {
            "text/plain": "6"
          },
          "metadata": {}
        }
      ],
      "execution_count": 229
    },
    {
      "cell_type": "code",
      "source": "A[[1,3]]",
      "metadata": {
        "trusted": true
      },
      "outputs": [
        {
          "execution_count": 230,
          "output_type": "execute_result",
          "data": {
            "text/plain": "array([[ 4,  5,  6,  7],\n       [12, 13, 14, 15]])"
          },
          "metadata": {}
        }
      ],
      "execution_count": 230
    },
    {
      "cell_type": "code",
      "source": "A[:, [0,1,2]]",
      "metadata": {
        "trusted": true
      },
      "outputs": [
        {
          "execution_count": 238,
          "output_type": "execute_result",
          "data": {
            "text/plain": "array([[ 0,  1,  2],\n       [ 4,  5,  6],\n       [ 8,  9, 10],\n       [12, 13, 14]])"
          },
          "metadata": {}
        }
      ],
      "execution_count": 238
    },
    {
      "cell_type": "code",
      "source": "A",
      "metadata": {
        "trusted": true
      },
      "outputs": [
        {
          "execution_count": 239,
          "output_type": "execute_result",
          "data": {
            "text/plain": "array([[ 0,  1,  2,  3],\n       [ 4,  5,  6,  7],\n       [ 8,  9, 10, 11],\n       [12, 13, 14, 15]])"
          },
          "metadata": {}
        }
      ],
      "execution_count": 239
    },
    {
      "cell_type": "code",
      "source": "A[[1,3],[0,2]]",
      "metadata": {
        "trusted": true
      },
      "outputs": [
        {
          "execution_count": 270,
          "output_type": "execute_result",
          "data": {
            "text/plain": "array([ 4, 14])"
          },
          "metadata": {}
        }
      ],
      "execution_count": 270
    },
    {
      "cell_type": "code",
      "source": "# as we can see result array return submatrix in 1-d format hence it fails to fetch submatrix using this method\n\n# other way to get submatrix using slice method:\n# A[[1,3]][:,[0,2]]\n\n# A[[0,3]][:,[1,2]]\n\n# 4,6  12,14\nA[[1,3]][:,[0,2]]",
      "metadata": {
        "trusted": true
      },
      "outputs": [
        {
          "execution_count": 271,
          "output_type": "execute_result",
          "data": {
            "text/plain": "array([[ 4,  6],\n       [12, 14]])"
          },
          "metadata": {}
        }
      ],
      "execution_count": 271
    },
    {
      "cell_type": "code",
      "source": "# best way to get submatrix from given matrix is sliceing method:\n\nA[1:4:2,0:3:2]",
      "metadata": {
        "trusted": true
      },
      "outputs": [
        {
          "execution_count": 275,
          "output_type": "execute_result",
          "data": {
            "text/plain": "array([[ 4,  6],\n       [12, 14]])"
          },
          "metadata": {}
        }
      ],
      "execution_count": 275
    },
    {
      "cell_type": "code",
      "source": "# (0,9)\nA[[0,2], [0, 1]]\n\n# (8, 11)\nA[2:3, [0,3]]\n\n# (3, 13)\nA[[0,3], [3,1]]\n\n# (5, 6, 7)\n# A[1:2, [1,2,3]]\nA[[1], [1,2,3]]",
      "metadata": {
        "trusted": true
      },
      "outputs": [
        {
          "execution_count": 274,
          "output_type": "execute_result",
          "data": {
            "text/plain": "array([5, 6, 7])"
          },
          "metadata": {}
        }
      ],
      "execution_count": 274
    },
    {
      "cell_type": "code",
      "source": "# boolean indexing.....\n\nkeep_rows = np.zeros(A.shape[0], bool)\nkeep_rows",
      "metadata": {
        "trusted": true
      },
      "outputs": [
        {
          "execution_count": 276,
          "output_type": "execute_result",
          "data": {
            "text/plain": "array([False, False, False, False])"
          },
          "metadata": {}
        }
      ],
      "execution_count": 276
    },
    {
      "cell_type": "code",
      "source": "keep_rows[[1,3]] = True\nkeep_rows",
      "metadata": {
        "trusted": true
      },
      "outputs": [
        {
          "execution_count": 279,
          "output_type": "execute_result",
          "data": {
            "text/plain": "array([False,  True, False,  True])"
          },
          "metadata": {}
        }
      ],
      "execution_count": 279
    },
    {
      "cell_type": "code",
      "source": "# np.all() method used to compare elements of two arrays\n\nresult = np.all(keep_rows == np.array([0,1,0,1]))\nresult",
      "metadata": {
        "trusted": true
      },
      "outputs": [
        {
          "execution_count": 283,
          "output_type": "execute_result",
          "data": {
            "text/plain": "True"
          },
          "metadata": {}
        }
      ],
      "execution_count": 283
    },
    {
      "cell_type": "code",
      "source": "A[keep_rows]",
      "metadata": {
        "trusted": true
      },
      "outputs": [
        {
          "execution_count": 284,
          "output_type": "execute_result",
          "data": {
            "text/plain": "array([[ 4,  5,  6,  7],\n       [12, 13, 14, 15]])"
          },
          "metadata": {}
        }
      ],
      "execution_count": 284
    },
    {
      "cell_type": "code",
      "source": "# loading data.....\n# data sets often contain different types of data and it could be associated with rows and columns\n# we generally use pandas library to handle dataframes and it's operations",
      "metadata": {
        "trusted": true
      },
      "outputs": [],
      "execution_count": 288
    },
    {
      "cell_type": "code",
      "source": "# pandas could be used for reading data set file\n\nimport pandas as pd\nAuto = pd.read_csv(\"Auto.csv\")\nAuto",
      "metadata": {
        "trusted": true
      },
      "outputs": [
        {
          "execution_count": 290,
          "output_type": "execute_result",
          "data": {
            "text/plain": "      mpg  cylinders  displacement horsepower  weight  acceleration  year  \\\n0    18.0          8         307.0        130    3504          12.0    70   \n1    15.0          8         350.0        165    3693          11.5    70   \n2    18.0          8         318.0        150    3436          11.0    70   \n3    16.0          8         304.0        150    3433          12.0    70   \n4    17.0          8         302.0        140    3449          10.5    70   \n..    ...        ...           ...        ...     ...           ...   ...   \n392  27.0          4         140.0         86    2790          15.6    82   \n393  44.0          4          97.0         52    2130          24.6    82   \n394  32.0          4         135.0         84    2295          11.6    82   \n395  28.0          4         120.0         79    2625          18.6    82   \n396  31.0          4         119.0         82    2720          19.4    82   \n\n     origin                       name  \n0         1  chevrolet chevelle malibu  \n1         1          buick skylark 320  \n2         1         plymouth satellite  \n3         1              amc rebel sst  \n4         1                ford torino  \n..      ...                        ...  \n392       1            ford mustang gl  \n393       2                  vw pickup  \n394       1              dodge rampage  \n395       1                ford ranger  \n396       1                 chevy s-10  \n\n[397 rows x 9 columns]",
            "text/html": "<div>\n<style scoped>\n    .dataframe tbody tr th:only-of-type {\n        vertical-align: middle;\n    }\n\n    .dataframe tbody tr th {\n        vertical-align: top;\n    }\n\n    .dataframe thead th {\n        text-align: right;\n    }\n</style>\n<table border=\"1\" class=\"dataframe\">\n  <thead>\n    <tr style=\"text-align: right;\">\n      <th></th>\n      <th>mpg</th>\n      <th>cylinders</th>\n      <th>displacement</th>\n      <th>horsepower</th>\n      <th>weight</th>\n      <th>acceleration</th>\n      <th>year</th>\n      <th>origin</th>\n      <th>name</th>\n    </tr>\n  </thead>\n  <tbody>\n    <tr>\n      <th>0</th>\n      <td>18.0</td>\n      <td>8</td>\n      <td>307.0</td>\n      <td>130</td>\n      <td>3504</td>\n      <td>12.0</td>\n      <td>70</td>\n      <td>1</td>\n      <td>chevrolet chevelle malibu</td>\n    </tr>\n    <tr>\n      <th>1</th>\n      <td>15.0</td>\n      <td>8</td>\n      <td>350.0</td>\n      <td>165</td>\n      <td>3693</td>\n      <td>11.5</td>\n      <td>70</td>\n      <td>1</td>\n      <td>buick skylark 320</td>\n    </tr>\n    <tr>\n      <th>2</th>\n      <td>18.0</td>\n      <td>8</td>\n      <td>318.0</td>\n      <td>150</td>\n      <td>3436</td>\n      <td>11.0</td>\n      <td>70</td>\n      <td>1</td>\n      <td>plymouth satellite</td>\n    </tr>\n    <tr>\n      <th>3</th>\n      <td>16.0</td>\n      <td>8</td>\n      <td>304.0</td>\n      <td>150</td>\n      <td>3433</td>\n      <td>12.0</td>\n      <td>70</td>\n      <td>1</td>\n      <td>amc rebel sst</td>\n    </tr>\n    <tr>\n      <th>4</th>\n      <td>17.0</td>\n      <td>8</td>\n      <td>302.0</td>\n      <td>140</td>\n      <td>3449</td>\n      <td>10.5</td>\n      <td>70</td>\n      <td>1</td>\n      <td>ford torino</td>\n    </tr>\n    <tr>\n      <th>...</th>\n      <td>...</td>\n      <td>...</td>\n      <td>...</td>\n      <td>...</td>\n      <td>...</td>\n      <td>...</td>\n      <td>...</td>\n      <td>...</td>\n      <td>...</td>\n    </tr>\n    <tr>\n      <th>392</th>\n      <td>27.0</td>\n      <td>4</td>\n      <td>140.0</td>\n      <td>86</td>\n      <td>2790</td>\n      <td>15.6</td>\n      <td>82</td>\n      <td>1</td>\n      <td>ford mustang gl</td>\n    </tr>\n    <tr>\n      <th>393</th>\n      <td>44.0</td>\n      <td>4</td>\n      <td>97.0</td>\n      <td>52</td>\n      <td>2130</td>\n      <td>24.6</td>\n      <td>82</td>\n      <td>2</td>\n      <td>vw pickup</td>\n    </tr>\n    <tr>\n      <th>394</th>\n      <td>32.0</td>\n      <td>4</td>\n      <td>135.0</td>\n      <td>84</td>\n      <td>2295</td>\n      <td>11.6</td>\n      <td>82</td>\n      <td>1</td>\n      <td>dodge rampage</td>\n    </tr>\n    <tr>\n      <th>395</th>\n      <td>28.0</td>\n      <td>4</td>\n      <td>120.0</td>\n      <td>79</td>\n      <td>2625</td>\n      <td>18.6</td>\n      <td>82</td>\n      <td>1</td>\n      <td>ford ranger</td>\n    </tr>\n    <tr>\n      <th>396</th>\n      <td>31.0</td>\n      <td>4</td>\n      <td>119.0</td>\n      <td>82</td>\n      <td>2720</td>\n      <td>19.4</td>\n      <td>82</td>\n      <td>1</td>\n      <td>chevy s-10</td>\n    </tr>\n  </tbody>\n</table>\n<p>397 rows × 9 columns</p>\n</div>"
          },
          "metadata": {}
        }
      ],
      "execution_count": 290
    },
    {
      "cell_type": "code",
      "source": "import pandas as pd\nAuto = pd.read_csv(\"Auto.data\", delim_whitespace=True)\nAuto",
      "metadata": {
        "trusted": true
      },
      "outputs": [
        {
          "execution_count": 293,
          "output_type": "execute_result",
          "data": {
            "text/plain": "      mpg  cylinders  displacement horsepower  weight  acceleration  year  \\\n0    18.0          8         307.0      130.0  3504.0          12.0    70   \n1    15.0          8         350.0      165.0  3693.0          11.5    70   \n2    18.0          8         318.0      150.0  3436.0          11.0    70   \n3    16.0          8         304.0      150.0  3433.0          12.0    70   \n4    17.0          8         302.0      140.0  3449.0          10.5    70   \n..    ...        ...           ...        ...     ...           ...   ...   \n392  27.0          4         140.0      86.00  2790.0          15.6    82   \n393  44.0          4          97.0      52.00  2130.0          24.6    82   \n394  32.0          4         135.0      84.00  2295.0          11.6    82   \n395  28.0          4         120.0      79.00  2625.0          18.6    82   \n396  31.0          4         119.0      82.00  2720.0          19.4    82   \n\n     origin                       name  \n0         1  chevrolet chevelle malibu  \n1         1          buick skylark 320  \n2         1         plymouth satellite  \n3         1              amc rebel sst  \n4         1                ford torino  \n..      ...                        ...  \n392       1            ford mustang gl  \n393       2                  vw pickup  \n394       1              dodge rampage  \n395       1                ford ranger  \n396       1                 chevy s-10  \n\n[397 rows x 9 columns]",
            "text/html": "<div>\n<style scoped>\n    .dataframe tbody tr th:only-of-type {\n        vertical-align: middle;\n    }\n\n    .dataframe tbody tr th {\n        vertical-align: top;\n    }\n\n    .dataframe thead th {\n        text-align: right;\n    }\n</style>\n<table border=\"1\" class=\"dataframe\">\n  <thead>\n    <tr style=\"text-align: right;\">\n      <th></th>\n      <th>mpg</th>\n      <th>cylinders</th>\n      <th>displacement</th>\n      <th>horsepower</th>\n      <th>weight</th>\n      <th>acceleration</th>\n      <th>year</th>\n      <th>origin</th>\n      <th>name</th>\n    </tr>\n  </thead>\n  <tbody>\n    <tr>\n      <th>0</th>\n      <td>18.0</td>\n      <td>8</td>\n      <td>307.0</td>\n      <td>130.0</td>\n      <td>3504.0</td>\n      <td>12.0</td>\n      <td>70</td>\n      <td>1</td>\n      <td>chevrolet chevelle malibu</td>\n    </tr>\n    <tr>\n      <th>1</th>\n      <td>15.0</td>\n      <td>8</td>\n      <td>350.0</td>\n      <td>165.0</td>\n      <td>3693.0</td>\n      <td>11.5</td>\n      <td>70</td>\n      <td>1</td>\n      <td>buick skylark 320</td>\n    </tr>\n    <tr>\n      <th>2</th>\n      <td>18.0</td>\n      <td>8</td>\n      <td>318.0</td>\n      <td>150.0</td>\n      <td>3436.0</td>\n      <td>11.0</td>\n      <td>70</td>\n      <td>1</td>\n      <td>plymouth satellite</td>\n    </tr>\n    <tr>\n      <th>3</th>\n      <td>16.0</td>\n      <td>8</td>\n      <td>304.0</td>\n      <td>150.0</td>\n      <td>3433.0</td>\n      <td>12.0</td>\n      <td>70</td>\n      <td>1</td>\n      <td>amc rebel sst</td>\n    </tr>\n    <tr>\n      <th>4</th>\n      <td>17.0</td>\n      <td>8</td>\n      <td>302.0</td>\n      <td>140.0</td>\n      <td>3449.0</td>\n      <td>10.5</td>\n      <td>70</td>\n      <td>1</td>\n      <td>ford torino</td>\n    </tr>\n    <tr>\n      <th>...</th>\n      <td>...</td>\n      <td>...</td>\n      <td>...</td>\n      <td>...</td>\n      <td>...</td>\n      <td>...</td>\n      <td>...</td>\n      <td>...</td>\n      <td>...</td>\n    </tr>\n    <tr>\n      <th>392</th>\n      <td>27.0</td>\n      <td>4</td>\n      <td>140.0</td>\n      <td>86.00</td>\n      <td>2790.0</td>\n      <td>15.6</td>\n      <td>82</td>\n      <td>1</td>\n      <td>ford mustang gl</td>\n    </tr>\n    <tr>\n      <th>393</th>\n      <td>44.0</td>\n      <td>4</td>\n      <td>97.0</td>\n      <td>52.00</td>\n      <td>2130.0</td>\n      <td>24.6</td>\n      <td>82</td>\n      <td>2</td>\n      <td>vw pickup</td>\n    </tr>\n    <tr>\n      <th>394</th>\n      <td>32.0</td>\n      <td>4</td>\n      <td>135.0</td>\n      <td>84.00</td>\n      <td>2295.0</td>\n      <td>11.6</td>\n      <td>82</td>\n      <td>1</td>\n      <td>dodge rampage</td>\n    </tr>\n    <tr>\n      <th>395</th>\n      <td>28.0</td>\n      <td>4</td>\n      <td>120.0</td>\n      <td>79.00</td>\n      <td>2625.0</td>\n      <td>18.6</td>\n      <td>82</td>\n      <td>1</td>\n      <td>ford ranger</td>\n    </tr>\n    <tr>\n      <th>396</th>\n      <td>31.0</td>\n      <td>4</td>\n      <td>119.0</td>\n      <td>82.00</td>\n      <td>2720.0</td>\n      <td>19.4</td>\n      <td>82</td>\n      <td>1</td>\n      <td>chevy s-10</td>\n    </tr>\n  </tbody>\n</table>\n<p>397 rows × 9 columns</p>\n</div>"
          },
          "metadata": {}
        }
      ],
      "execution_count": 293
    },
    {
      "cell_type": "code",
      "source": "# read or access one of the columns from data set\n\nAuto[\"horsepower\"]",
      "metadata": {
        "trusted": true
      },
      "outputs": [
        {
          "execution_count": 299,
          "output_type": "execute_result",
          "data": {
            "text/plain": "0      130.0\n1      165.0\n2      150.0\n3      150.0\n4      140.0\n       ...  \n392    86.00\n393    52.00\n394    84.00\n395    79.00\n396    82.00\nName: horsepower, Length: 397, dtype: object"
          },
          "metadata": {}
        }
      ],
      "execution_count": 299
    },
    {
      "cell_type": "code",
      "source": "# np.unique to find out data type of targeted column\nnp.unique(Auto[\"horsepower\"])",
      "metadata": {
        "trusted": true
      },
      "outputs": [
        {
          "execution_count": 303,
          "output_type": "execute_result",
          "data": {
            "text/plain": "array(['100.0', '102.0', '103.0', '105.0', '107.0', '108.0', '110.0',\n       '112.0', '113.0', '115.0', '116.0', '120.0', '122.0', '125.0',\n       '129.0', '130.0', '132.0', '133.0', '135.0', '137.0', '138.0',\n       '139.0', '140.0', '142.0', '145.0', '148.0', '149.0', '150.0',\n       '152.0', '153.0', '155.0', '158.0', '160.0', '165.0', '167.0',\n       '170.0', '175.0', '180.0', '190.0', '193.0', '198.0', '200.0',\n       '208.0', '210.0', '215.0', '220.0', '225.0', '230.0', '46.00',\n       '48.00', '49.00', '52.00', '53.00', '54.00', '58.00', '60.00',\n       '61.00', '62.00', '63.00', '64.00', '65.00', '66.00', '67.00',\n       '68.00', '69.00', '70.00', '71.00', '72.00', '74.00', '75.00',\n       '76.00', '77.00', '78.00', '79.00', '80.00', '81.00', '82.00',\n       '83.00', '84.00', '85.00', '86.00', '87.00', '88.00', '89.00',\n       '90.00', '91.00', '92.00', '93.00', '94.00', '95.00', '96.00',\n       '97.00', '98.00', '?'], dtype=object)"
          },
          "metadata": {}
        }
      ],
      "execution_count": 303
    },
    {
      "cell_type": "code",
      "source": "# to replace weird values(? in this case) with NaN we pass na_values in params\nAuto = pd.read_csv('Auto.data', na_values=['?'], delim_whitespace=True)\n\nAuto[\"horsepower\"].sum()",
      "metadata": {
        "trusted": true
      },
      "outputs": [
        {
          "execution_count": 310,
          "output_type": "execute_result",
          "data": {
            "text/plain": "40952.0"
          },
          "metadata": {}
        }
      ],
      "execution_count": 310
    },
    {
      "cell_type": "code",
      "source": "# shape attribute tells us total rows and columns in data\nAuto.shape",
      "metadata": {
        "trusted": true
      },
      "outputs": [
        {
          "execution_count": 311,
          "output_type": "execute_result",
          "data": {
            "text/plain": "(397, 9)"
          },
          "metadata": {}
        }
      ],
      "execution_count": 311
    },
    {
      "cell_type": "code",
      "source": "# dropna() method used to remove rows which having missing data\n\nAuto_new = Auto.dropna()\nAuto_new.shape",
      "metadata": {
        "trusted": true
      },
      "outputs": [
        {
          "execution_count": 313,
          "output_type": "execute_result",
          "data": {
            "text/plain": "(392, 9)"
          },
          "metadata": {}
        }
      ],
      "execution_count": 313
    },
    {
      "cell_type": "code",
      "source": "# columns attribute tells us total variables used in the data\n\nAuto.columns\n",
      "metadata": {
        "trusted": true
      },
      "outputs": [
        {
          "execution_count": 318,
          "output_type": "execute_result",
          "data": {
            "text/plain": "Index(['mpg', 'cylinders', 'displacement', 'horsepower', 'weight',\n       'acceleration', 'year', 'origin', 'name'],\n      dtype='object')"
          },
          "metadata": {}
        }
      ],
      "execution_count": 318
    },
    {
      "cell_type": "code",
      "source": "# size attribute used to calculate total number of values\nvals = 0;\nvals = Auto.columns.size\nvals",
      "metadata": {
        "trusted": true
      },
      "outputs": [
        {
          "execution_count": 323,
          "output_type": "execute_result",
          "data": {
            "text/plain": "9"
          },
          "metadata": {}
        }
      ],
      "execution_count": 323
    },
    {
      "cell_type": "code",
      "source": "# rows of data can be accessable using slice notation\nAuto[:4]",
      "metadata": {
        "trusted": true
      },
      "outputs": [
        {
          "execution_count": 325,
          "output_type": "execute_result",
          "data": {
            "text/plain": "    mpg  cylinders  displacement  horsepower  weight  acceleration  year  \\\n0  18.0          8         307.0       130.0  3504.0          12.0    70   \n1  15.0          8         350.0       165.0  3693.0          11.5    70   \n2  18.0          8         318.0       150.0  3436.0          11.0    70   \n3  16.0          8         304.0       150.0  3433.0          12.0    70   \n\n   origin                       name  \n0       1  chevrolet chevelle malibu  \n1       1          buick skylark 320  \n2       1         plymouth satellite  \n3       1              amc rebel sst  ",
            "text/html": "<div>\n<style scoped>\n    .dataframe tbody tr th:only-of-type {\n        vertical-align: middle;\n    }\n\n    .dataframe tbody tr th {\n        vertical-align: top;\n    }\n\n    .dataframe thead th {\n        text-align: right;\n    }\n</style>\n<table border=\"1\" class=\"dataframe\">\n  <thead>\n    <tr style=\"text-align: right;\">\n      <th></th>\n      <th>mpg</th>\n      <th>cylinders</th>\n      <th>displacement</th>\n      <th>horsepower</th>\n      <th>weight</th>\n      <th>acceleration</th>\n      <th>year</th>\n      <th>origin</th>\n      <th>name</th>\n    </tr>\n  </thead>\n  <tbody>\n    <tr>\n      <th>0</th>\n      <td>18.0</td>\n      <td>8</td>\n      <td>307.0</td>\n      <td>130.0</td>\n      <td>3504.0</td>\n      <td>12.0</td>\n      <td>70</td>\n      <td>1</td>\n      <td>chevrolet chevelle malibu</td>\n    </tr>\n    <tr>\n      <th>1</th>\n      <td>15.0</td>\n      <td>8</td>\n      <td>350.0</td>\n      <td>165.0</td>\n      <td>3693.0</td>\n      <td>11.5</td>\n      <td>70</td>\n      <td>1</td>\n      <td>buick skylark 320</td>\n    </tr>\n    <tr>\n      <th>2</th>\n      <td>18.0</td>\n      <td>8</td>\n      <td>318.0</td>\n      <td>150.0</td>\n      <td>3436.0</td>\n      <td>11.0</td>\n      <td>70</td>\n      <td>1</td>\n      <td>plymouth satellite</td>\n    </tr>\n    <tr>\n      <th>3</th>\n      <td>16.0</td>\n      <td>8</td>\n      <td>304.0</td>\n      <td>150.0</td>\n      <td>3433.0</td>\n      <td>12.0</td>\n      <td>70</td>\n      <td>1</td>\n      <td>amc rebel sst</td>\n    </tr>\n  </tbody>\n</table>\n</div>"
          },
          "metadata": {}
        }
      ],
      "execution_count": 325
    },
    {
      "cell_type": "code",
      "source": "# Auto[['mpg', \"year\"]]\nAuto.iloc[0:4, [1,2,3]]",
      "metadata": {
        "trusted": true
      },
      "outputs": [
        {
          "execution_count": 342,
          "output_type": "execute_result",
          "data": {
            "text/plain": "   cylinders  displacement  horsepower\n0          8         307.0       130.0\n1          8         350.0       165.0\n2          8         318.0       150.0\n3          8         304.0       150.0",
            "text/html": "<div>\n<style scoped>\n    .dataframe tbody tr th:only-of-type {\n        vertical-align: middle;\n    }\n\n    .dataframe tbody tr th {\n        vertical-align: top;\n    }\n\n    .dataframe thead th {\n        text-align: right;\n    }\n</style>\n<table border=\"1\" class=\"dataframe\">\n  <thead>\n    <tr style=\"text-align: right;\">\n      <th></th>\n      <th>cylinders</th>\n      <th>displacement</th>\n      <th>horsepower</th>\n    </tr>\n  </thead>\n  <tbody>\n    <tr>\n      <th>0</th>\n      <td>8</td>\n      <td>307.0</td>\n      <td>130.0</td>\n    </tr>\n    <tr>\n      <th>1</th>\n      <td>8</td>\n      <td>350.0</td>\n      <td>165.0</td>\n    </tr>\n    <tr>\n      <th>2</th>\n      <td>8</td>\n      <td>318.0</td>\n      <td>150.0</td>\n    </tr>\n    <tr>\n      <th>3</th>\n      <td>8</td>\n      <td>304.0</td>\n      <td>150.0</td>\n    </tr>\n  </tbody>\n</table>\n</div>"
          },
          "metadata": {}
        }
      ],
      "execution_count": 342
    },
    {
      "cell_type": "code",
      "source": "idx_80 = Auto['year'] > 81\nAuto[idx_80]",
      "metadata": {
        "trusted": true
      },
      "outputs": [
        {
          "execution_count": 333,
          "output_type": "execute_result",
          "data": {
            "text/plain": "      mpg  cylinders  displacement  horsepower  weight  acceleration  year  \\\n367  28.0          4         112.0        88.0  2605.0          19.6    82   \n368  27.0          4         112.0        88.0  2640.0          18.6    82   \n369  34.0          4         112.0        88.0  2395.0          18.0    82   \n370  31.0          4         112.0        85.0  2575.0          16.2    82   \n371  29.0          4         135.0        84.0  2525.0          16.0    82   \n372  27.0          4         151.0        90.0  2735.0          18.0    82   \n373  24.0          4         140.0        92.0  2865.0          16.4    82   \n374  36.0          4         105.0        74.0  1980.0          15.3    82   \n375  37.0          4          91.0        68.0  2025.0          18.2    82   \n376  31.0          4          91.0        68.0  1970.0          17.6    82   \n377  38.0          4         105.0        63.0  2125.0          14.7    82   \n378  36.0          4          98.0        70.0  2125.0          17.3    82   \n379  36.0          4         120.0        88.0  2160.0          14.5    82   \n380  36.0          4         107.0        75.0  2205.0          14.5    82   \n381  34.0          4         108.0        70.0  2245.0          16.9    82   \n382  38.0          4          91.0        67.0  1965.0          15.0    82   \n383  32.0          4          91.0        67.0  1965.0          15.7    82   \n384  38.0          4          91.0        67.0  1995.0          16.2    82   \n385  25.0          6         181.0       110.0  2945.0          16.4    82   \n386  38.0          6         262.0        85.0  3015.0          17.0    82   \n387  26.0          4         156.0        92.0  2585.0          14.5    82   \n388  22.0          6         232.0       112.0  2835.0          14.7    82   \n389  32.0          4         144.0        96.0  2665.0          13.9    82   \n390  36.0          4         135.0        84.0  2370.0          13.0    82   \n391  27.0          4         151.0        90.0  2950.0          17.3    82   \n392  27.0          4         140.0        86.0  2790.0          15.6    82   \n393  44.0          4          97.0        52.0  2130.0          24.6    82   \n394  32.0          4         135.0        84.0  2295.0          11.6    82   \n395  28.0          4         120.0        79.0  2625.0          18.6    82   \n396  31.0          4         119.0        82.0  2720.0          19.4    82   \n\n     origin                               name  \n367       1                 chevrolet cavalier  \n368       1           chevrolet cavalier wagon  \n369       1          chevrolet cavalier 2-door  \n370       1         pontiac j2000 se hatchback  \n371       1                     dodge aries se  \n372       1                    pontiac phoenix  \n373       1               ford fairmont futura  \n374       2                volkswagen rabbit l  \n375       3                 mazda glc custom l  \n376       3                   mazda glc custom  \n377       1             plymouth horizon miser  \n378       1                     mercury lynx l  \n379       3                   nissan stanza xe  \n380       3                       honda accord  \n381       3                     toyota corolla  \n382       3                        honda civic  \n383       3                 honda civic (auto)  \n384       3                      datsun 310 gx  \n385       1              buick century limited  \n386       1  oldsmobile cutlass ciera (diesel)  \n387       1         chrysler lebaron medallion  \n388       1                     ford granada l  \n389       3                   toyota celica gt  \n390       1                  dodge charger 2.2  \n391       1                   chevrolet camaro  \n392       1                    ford mustang gl  \n393       2                          vw pickup  \n394       1                      dodge rampage  \n395       1                        ford ranger  \n396       1                         chevy s-10  ",
            "text/html": "<div>\n<style scoped>\n    .dataframe tbody tr th:only-of-type {\n        vertical-align: middle;\n    }\n\n    .dataframe tbody tr th {\n        vertical-align: top;\n    }\n\n    .dataframe thead th {\n        text-align: right;\n    }\n</style>\n<table border=\"1\" class=\"dataframe\">\n  <thead>\n    <tr style=\"text-align: right;\">\n      <th></th>\n      <th>mpg</th>\n      <th>cylinders</th>\n      <th>displacement</th>\n      <th>horsepower</th>\n      <th>weight</th>\n      <th>acceleration</th>\n      <th>year</th>\n      <th>origin</th>\n      <th>name</th>\n    </tr>\n  </thead>\n  <tbody>\n    <tr>\n      <th>367</th>\n      <td>28.0</td>\n      <td>4</td>\n      <td>112.0</td>\n      <td>88.0</td>\n      <td>2605.0</td>\n      <td>19.6</td>\n      <td>82</td>\n      <td>1</td>\n      <td>chevrolet cavalier</td>\n    </tr>\n    <tr>\n      <th>368</th>\n      <td>27.0</td>\n      <td>4</td>\n      <td>112.0</td>\n      <td>88.0</td>\n      <td>2640.0</td>\n      <td>18.6</td>\n      <td>82</td>\n      <td>1</td>\n      <td>chevrolet cavalier wagon</td>\n    </tr>\n    <tr>\n      <th>369</th>\n      <td>34.0</td>\n      <td>4</td>\n      <td>112.0</td>\n      <td>88.0</td>\n      <td>2395.0</td>\n      <td>18.0</td>\n      <td>82</td>\n      <td>1</td>\n      <td>chevrolet cavalier 2-door</td>\n    </tr>\n    <tr>\n      <th>370</th>\n      <td>31.0</td>\n      <td>4</td>\n      <td>112.0</td>\n      <td>85.0</td>\n      <td>2575.0</td>\n      <td>16.2</td>\n      <td>82</td>\n      <td>1</td>\n      <td>pontiac j2000 se hatchback</td>\n    </tr>\n    <tr>\n      <th>371</th>\n      <td>29.0</td>\n      <td>4</td>\n      <td>135.0</td>\n      <td>84.0</td>\n      <td>2525.0</td>\n      <td>16.0</td>\n      <td>82</td>\n      <td>1</td>\n      <td>dodge aries se</td>\n    </tr>\n    <tr>\n      <th>372</th>\n      <td>27.0</td>\n      <td>4</td>\n      <td>151.0</td>\n      <td>90.0</td>\n      <td>2735.0</td>\n      <td>18.0</td>\n      <td>82</td>\n      <td>1</td>\n      <td>pontiac phoenix</td>\n    </tr>\n    <tr>\n      <th>373</th>\n      <td>24.0</td>\n      <td>4</td>\n      <td>140.0</td>\n      <td>92.0</td>\n      <td>2865.0</td>\n      <td>16.4</td>\n      <td>82</td>\n      <td>1</td>\n      <td>ford fairmont futura</td>\n    </tr>\n    <tr>\n      <th>374</th>\n      <td>36.0</td>\n      <td>4</td>\n      <td>105.0</td>\n      <td>74.0</td>\n      <td>1980.0</td>\n      <td>15.3</td>\n      <td>82</td>\n      <td>2</td>\n      <td>volkswagen rabbit l</td>\n    </tr>\n    <tr>\n      <th>375</th>\n      <td>37.0</td>\n      <td>4</td>\n      <td>91.0</td>\n      <td>68.0</td>\n      <td>2025.0</td>\n      <td>18.2</td>\n      <td>82</td>\n      <td>3</td>\n      <td>mazda glc custom l</td>\n    </tr>\n    <tr>\n      <th>376</th>\n      <td>31.0</td>\n      <td>4</td>\n      <td>91.0</td>\n      <td>68.0</td>\n      <td>1970.0</td>\n      <td>17.6</td>\n      <td>82</td>\n      <td>3</td>\n      <td>mazda glc custom</td>\n    </tr>\n    <tr>\n      <th>377</th>\n      <td>38.0</td>\n      <td>4</td>\n      <td>105.0</td>\n      <td>63.0</td>\n      <td>2125.0</td>\n      <td>14.7</td>\n      <td>82</td>\n      <td>1</td>\n      <td>plymouth horizon miser</td>\n    </tr>\n    <tr>\n      <th>378</th>\n      <td>36.0</td>\n      <td>4</td>\n      <td>98.0</td>\n      <td>70.0</td>\n      <td>2125.0</td>\n      <td>17.3</td>\n      <td>82</td>\n      <td>1</td>\n      <td>mercury lynx l</td>\n    </tr>\n    <tr>\n      <th>379</th>\n      <td>36.0</td>\n      <td>4</td>\n      <td>120.0</td>\n      <td>88.0</td>\n      <td>2160.0</td>\n      <td>14.5</td>\n      <td>82</td>\n      <td>3</td>\n      <td>nissan stanza xe</td>\n    </tr>\n    <tr>\n      <th>380</th>\n      <td>36.0</td>\n      <td>4</td>\n      <td>107.0</td>\n      <td>75.0</td>\n      <td>2205.0</td>\n      <td>14.5</td>\n      <td>82</td>\n      <td>3</td>\n      <td>honda accord</td>\n    </tr>\n    <tr>\n      <th>381</th>\n      <td>34.0</td>\n      <td>4</td>\n      <td>108.0</td>\n      <td>70.0</td>\n      <td>2245.0</td>\n      <td>16.9</td>\n      <td>82</td>\n      <td>3</td>\n      <td>toyota corolla</td>\n    </tr>\n    <tr>\n      <th>382</th>\n      <td>38.0</td>\n      <td>4</td>\n      <td>91.0</td>\n      <td>67.0</td>\n      <td>1965.0</td>\n      <td>15.0</td>\n      <td>82</td>\n      <td>3</td>\n      <td>honda civic</td>\n    </tr>\n    <tr>\n      <th>383</th>\n      <td>32.0</td>\n      <td>4</td>\n      <td>91.0</td>\n      <td>67.0</td>\n      <td>1965.0</td>\n      <td>15.7</td>\n      <td>82</td>\n      <td>3</td>\n      <td>honda civic (auto)</td>\n    </tr>\n    <tr>\n      <th>384</th>\n      <td>38.0</td>\n      <td>4</td>\n      <td>91.0</td>\n      <td>67.0</td>\n      <td>1995.0</td>\n      <td>16.2</td>\n      <td>82</td>\n      <td>3</td>\n      <td>datsun 310 gx</td>\n    </tr>\n    <tr>\n      <th>385</th>\n      <td>25.0</td>\n      <td>6</td>\n      <td>181.0</td>\n      <td>110.0</td>\n      <td>2945.0</td>\n      <td>16.4</td>\n      <td>82</td>\n      <td>1</td>\n      <td>buick century limited</td>\n    </tr>\n    <tr>\n      <th>386</th>\n      <td>38.0</td>\n      <td>6</td>\n      <td>262.0</td>\n      <td>85.0</td>\n      <td>3015.0</td>\n      <td>17.0</td>\n      <td>82</td>\n      <td>1</td>\n      <td>oldsmobile cutlass ciera (diesel)</td>\n    </tr>\n    <tr>\n      <th>387</th>\n      <td>26.0</td>\n      <td>4</td>\n      <td>156.0</td>\n      <td>92.0</td>\n      <td>2585.0</td>\n      <td>14.5</td>\n      <td>82</td>\n      <td>1</td>\n      <td>chrysler lebaron medallion</td>\n    </tr>\n    <tr>\n      <th>388</th>\n      <td>22.0</td>\n      <td>6</td>\n      <td>232.0</td>\n      <td>112.0</td>\n      <td>2835.0</td>\n      <td>14.7</td>\n      <td>82</td>\n      <td>1</td>\n      <td>ford granada l</td>\n    </tr>\n    <tr>\n      <th>389</th>\n      <td>32.0</td>\n      <td>4</td>\n      <td>144.0</td>\n      <td>96.0</td>\n      <td>2665.0</td>\n      <td>13.9</td>\n      <td>82</td>\n      <td>3</td>\n      <td>toyota celica gt</td>\n    </tr>\n    <tr>\n      <th>390</th>\n      <td>36.0</td>\n      <td>4</td>\n      <td>135.0</td>\n      <td>84.0</td>\n      <td>2370.0</td>\n      <td>13.0</td>\n      <td>82</td>\n      <td>1</td>\n      <td>dodge charger 2.2</td>\n    </tr>\n    <tr>\n      <th>391</th>\n      <td>27.0</td>\n      <td>4</td>\n      <td>151.0</td>\n      <td>90.0</td>\n      <td>2950.0</td>\n      <td>17.3</td>\n      <td>82</td>\n      <td>1</td>\n      <td>chevrolet camaro</td>\n    </tr>\n    <tr>\n      <th>392</th>\n      <td>27.0</td>\n      <td>4</td>\n      <td>140.0</td>\n      <td>86.0</td>\n      <td>2790.0</td>\n      <td>15.6</td>\n      <td>82</td>\n      <td>1</td>\n      <td>ford mustang gl</td>\n    </tr>\n    <tr>\n      <th>393</th>\n      <td>44.0</td>\n      <td>4</td>\n      <td>97.0</td>\n      <td>52.0</td>\n      <td>2130.0</td>\n      <td>24.6</td>\n      <td>82</td>\n      <td>2</td>\n      <td>vw pickup</td>\n    </tr>\n    <tr>\n      <th>394</th>\n      <td>32.0</td>\n      <td>4</td>\n      <td>135.0</td>\n      <td>84.0</td>\n      <td>2295.0</td>\n      <td>11.6</td>\n      <td>82</td>\n      <td>1</td>\n      <td>dodge rampage</td>\n    </tr>\n    <tr>\n      <th>395</th>\n      <td>28.0</td>\n      <td>4</td>\n      <td>120.0</td>\n      <td>79.0</td>\n      <td>2625.0</td>\n      <td>18.6</td>\n      <td>82</td>\n      <td>1</td>\n      <td>ford ranger</td>\n    </tr>\n    <tr>\n      <th>396</th>\n      <td>31.0</td>\n      <td>4</td>\n      <td>119.0</td>\n      <td>82.0</td>\n      <td>2720.0</td>\n      <td>19.4</td>\n      <td>82</td>\n      <td>1</td>\n      <td>chevy s-10</td>\n    </tr>\n  </tbody>\n</table>\n</div>"
          },
          "metadata": {}
        }
      ],
      "execution_count": 333
    },
    {
      "cell_type": "code",
      "source": "# set_index() method can set the new index name for rows from one of the columns\nAuto_re = Auto.set_index(\"name\")\nAuto_re",
      "metadata": {
        "trusted": true
      },
      "outputs": [
        {
          "execution_count": 335,
          "output_type": "execute_result",
          "data": {
            "text/plain": "                            mpg  cylinders  displacement  horsepower  weight  \\\nname                                                                           \nchevrolet chevelle malibu  18.0          8         307.0       130.0  3504.0   \nbuick skylark 320          15.0          8         350.0       165.0  3693.0   \nplymouth satellite         18.0          8         318.0       150.0  3436.0   \namc rebel sst              16.0          8         304.0       150.0  3433.0   \nford torino                17.0          8         302.0       140.0  3449.0   \n...                         ...        ...           ...         ...     ...   \nford mustang gl            27.0          4         140.0        86.0  2790.0   \nvw pickup                  44.0          4          97.0        52.0  2130.0   \ndodge rampage              32.0          4         135.0        84.0  2295.0   \nford ranger                28.0          4         120.0        79.0  2625.0   \nchevy s-10                 31.0          4         119.0        82.0  2720.0   \n\n                           acceleration  year  origin  \nname                                                   \nchevrolet chevelle malibu          12.0    70       1  \nbuick skylark 320                  11.5    70       1  \nplymouth satellite                 11.0    70       1  \namc rebel sst                      12.0    70       1  \nford torino                        10.5    70       1  \n...                                 ...   ...     ...  \nford mustang gl                    15.6    82       1  \nvw pickup                          24.6    82       2  \ndodge rampage                      11.6    82       1  \nford ranger                        18.6    82       1  \nchevy s-10                         19.4    82       1  \n\n[392 rows x 8 columns]",
            "text/html": "<div>\n<style scoped>\n    .dataframe tbody tr th:only-of-type {\n        vertical-align: middle;\n    }\n\n    .dataframe tbody tr th {\n        vertical-align: top;\n    }\n\n    .dataframe thead th {\n        text-align: right;\n    }\n</style>\n<table border=\"1\" class=\"dataframe\">\n  <thead>\n    <tr style=\"text-align: right;\">\n      <th></th>\n      <th>mpg</th>\n      <th>cylinders</th>\n      <th>displacement</th>\n      <th>horsepower</th>\n      <th>weight</th>\n      <th>acceleration</th>\n      <th>year</th>\n      <th>origin</th>\n    </tr>\n    <tr>\n      <th>name</th>\n      <th></th>\n      <th></th>\n      <th></th>\n      <th></th>\n      <th></th>\n      <th></th>\n      <th></th>\n      <th></th>\n    </tr>\n  </thead>\n  <tbody>\n    <tr>\n      <th>chevrolet chevelle malibu</th>\n      <td>18.0</td>\n      <td>8</td>\n      <td>307.0</td>\n      <td>130.0</td>\n      <td>3504.0</td>\n      <td>12.0</td>\n      <td>70</td>\n      <td>1</td>\n    </tr>\n    <tr>\n      <th>buick skylark 320</th>\n      <td>15.0</td>\n      <td>8</td>\n      <td>350.0</td>\n      <td>165.0</td>\n      <td>3693.0</td>\n      <td>11.5</td>\n      <td>70</td>\n      <td>1</td>\n    </tr>\n    <tr>\n      <th>plymouth satellite</th>\n      <td>18.0</td>\n      <td>8</td>\n      <td>318.0</td>\n      <td>150.0</td>\n      <td>3436.0</td>\n      <td>11.0</td>\n      <td>70</td>\n      <td>1</td>\n    </tr>\n    <tr>\n      <th>amc rebel sst</th>\n      <td>16.0</td>\n      <td>8</td>\n      <td>304.0</td>\n      <td>150.0</td>\n      <td>3433.0</td>\n      <td>12.0</td>\n      <td>70</td>\n      <td>1</td>\n    </tr>\n    <tr>\n      <th>ford torino</th>\n      <td>17.0</td>\n      <td>8</td>\n      <td>302.0</td>\n      <td>140.0</td>\n      <td>3449.0</td>\n      <td>10.5</td>\n      <td>70</td>\n      <td>1</td>\n    </tr>\n    <tr>\n      <th>...</th>\n      <td>...</td>\n      <td>...</td>\n      <td>...</td>\n      <td>...</td>\n      <td>...</td>\n      <td>...</td>\n      <td>...</td>\n      <td>...</td>\n    </tr>\n    <tr>\n      <th>ford mustang gl</th>\n      <td>27.0</td>\n      <td>4</td>\n      <td>140.0</td>\n      <td>86.0</td>\n      <td>2790.0</td>\n      <td>15.6</td>\n      <td>82</td>\n      <td>1</td>\n    </tr>\n    <tr>\n      <th>vw pickup</th>\n      <td>44.0</td>\n      <td>4</td>\n      <td>97.0</td>\n      <td>52.0</td>\n      <td>2130.0</td>\n      <td>24.6</td>\n      <td>82</td>\n      <td>2</td>\n    </tr>\n    <tr>\n      <th>dodge rampage</th>\n      <td>32.0</td>\n      <td>4</td>\n      <td>135.0</td>\n      <td>84.0</td>\n      <td>2295.0</td>\n      <td>11.6</td>\n      <td>82</td>\n      <td>1</td>\n    </tr>\n    <tr>\n      <th>ford ranger</th>\n      <td>28.0</td>\n      <td>4</td>\n      <td>120.0</td>\n      <td>79.0</td>\n      <td>2625.0</td>\n      <td>18.6</td>\n      <td>82</td>\n      <td>1</td>\n    </tr>\n    <tr>\n      <th>chevy s-10</th>\n      <td>31.0</td>\n      <td>4</td>\n      <td>119.0</td>\n      <td>82.0</td>\n      <td>2720.0</td>\n      <td>19.4</td>\n      <td>82</td>\n      <td>1</td>\n    </tr>\n  </tbody>\n</table>\n<p>392 rows × 8 columns</p>\n</div>"
          },
          "metadata": {}
        }
      ],
      "execution_count": 335
    },
    {
      "cell_type": "code",
      "source": "# iloc() method is used to fetch targeted rows and columns\nAuto_re.iloc[[3,4]]",
      "metadata": {
        "trusted": true
      },
      "outputs": [
        {
          "execution_count": 337,
          "output_type": "execute_result",
          "data": {
            "text/plain": "                mpg  cylinders  displacement  horsepower  weight  \\\nname                                                               \namc rebel sst  16.0          8         304.0       150.0  3433.0   \nford torino    17.0          8         302.0       140.0  3449.0   \n\n               acceleration  year  origin  \nname                                       \namc rebel sst          12.0    70       1  \nford torino            10.5    70       1  ",
            "text/html": "<div>\n<style scoped>\n    .dataframe tbody tr th:only-of-type {\n        vertical-align: middle;\n    }\n\n    .dataframe tbody tr th {\n        vertical-align: top;\n    }\n\n    .dataframe thead th {\n        text-align: right;\n    }\n</style>\n<table border=\"1\" class=\"dataframe\">\n  <thead>\n    <tr style=\"text-align: right;\">\n      <th></th>\n      <th>mpg</th>\n      <th>cylinders</th>\n      <th>displacement</th>\n      <th>horsepower</th>\n      <th>weight</th>\n      <th>acceleration</th>\n      <th>year</th>\n      <th>origin</th>\n    </tr>\n    <tr>\n      <th>name</th>\n      <th></th>\n      <th></th>\n      <th></th>\n      <th></th>\n      <th></th>\n      <th></th>\n      <th></th>\n      <th></th>\n    </tr>\n  </thead>\n  <tbody>\n    <tr>\n      <th>amc rebel sst</th>\n      <td>16.0</td>\n      <td>8</td>\n      <td>304.0</td>\n      <td>150.0</td>\n      <td>3433.0</td>\n      <td>12.0</td>\n      <td>70</td>\n      <td>1</td>\n    </tr>\n    <tr>\n      <th>ford torino</th>\n      <td>17.0</td>\n      <td>8</td>\n      <td>302.0</td>\n      <td>140.0</td>\n      <td>3449.0</td>\n      <td>10.5</td>\n      <td>70</td>\n      <td>1</td>\n    </tr>\n  </tbody>\n</table>\n</div>"
          },
          "metadata": {}
        }
      ],
      "execution_count": 337
    },
    {
      "cell_type": "code",
      "source": "# selected rows with selected columns could be fetched using iloc()\n# loc works for strings and iloc works for numbers\n\nAuto_re.iloc[11:14, [1,2,5]]",
      "metadata": {
        "trusted": true
      },
      "outputs": [
        {
          "execution_count": 353,
          "output_type": "execute_result",
          "data": {
            "text/plain": "                         cylinders  displacement  acceleration\nname                                                          \nplymouth 'cuda 340               8         340.0           8.0\nchevrolet monte carlo            8         400.0           9.5\nbuick estate wagon (sw)          8         455.0          10.0",
            "text/html": "<div>\n<style scoped>\n    .dataframe tbody tr th:only-of-type {\n        vertical-align: middle;\n    }\n\n    .dataframe tbody tr th {\n        vertical-align: top;\n    }\n\n    .dataframe thead th {\n        text-align: right;\n    }\n</style>\n<table border=\"1\" class=\"dataframe\">\n  <thead>\n    <tr style=\"text-align: right;\">\n      <th></th>\n      <th>cylinders</th>\n      <th>displacement</th>\n      <th>acceleration</th>\n    </tr>\n    <tr>\n      <th>name</th>\n      <th></th>\n      <th></th>\n      <th></th>\n    </tr>\n  </thead>\n  <tbody>\n    <tr>\n      <th>plymouth 'cuda 340</th>\n      <td>8</td>\n      <td>340.0</td>\n      <td>8.0</td>\n    </tr>\n    <tr>\n      <th>chevrolet monte carlo</th>\n      <td>8</td>\n      <td>400.0</td>\n      <td>9.5</td>\n    </tr>\n    <tr>\n      <th>buick estate wagon (sw)</th>\n      <td>8</td>\n      <td>455.0</td>\n      <td>10.0</td>\n    </tr>\n  </tbody>\n</table>\n</div>"
          },
          "metadata": {}
        }
      ],
      "execution_count": 353
    },
    {
      "cell_type": "code",
      "source": "Auto_re.loc[\"ford torino\":\"ford ranger\", [\"weight\",\"year\"]]",
      "metadata": {
        "trusted": true
      },
      "outputs": [
        {
          "execution_count": 351,
          "output_type": "execute_result",
          "data": {
            "text/plain": "                   weight  year\nname                           \nford torino        3449.0    70\nford galaxie 500   4341.0    70\nchevrolet impala   4354.0    70\nplymouth fury iii  4312.0    70\npontiac catalina   4425.0    70\n...                   ...   ...\nchevrolet camaro   2950.0    82\nford mustang gl    2790.0    82\nvw pickup          2130.0    82\ndodge rampage      2295.0    82\nford ranger        2625.0    82\n\n[387 rows x 2 columns]",
            "text/html": "<div>\n<style scoped>\n    .dataframe tbody tr th:only-of-type {\n        vertical-align: middle;\n    }\n\n    .dataframe tbody tr th {\n        vertical-align: top;\n    }\n\n    .dataframe thead th {\n        text-align: right;\n    }\n</style>\n<table border=\"1\" class=\"dataframe\">\n  <thead>\n    <tr style=\"text-align: right;\">\n      <th></th>\n      <th>weight</th>\n      <th>year</th>\n    </tr>\n    <tr>\n      <th>name</th>\n      <th></th>\n      <th></th>\n    </tr>\n  </thead>\n  <tbody>\n    <tr>\n      <th>ford torino</th>\n      <td>3449.0</td>\n      <td>70</td>\n    </tr>\n    <tr>\n      <th>ford galaxie 500</th>\n      <td>4341.0</td>\n      <td>70</td>\n    </tr>\n    <tr>\n      <th>chevrolet impala</th>\n      <td>4354.0</td>\n      <td>70</td>\n    </tr>\n    <tr>\n      <th>plymouth fury iii</th>\n      <td>4312.0</td>\n      <td>70</td>\n    </tr>\n    <tr>\n      <th>pontiac catalina</th>\n      <td>4425.0</td>\n      <td>70</td>\n    </tr>\n    <tr>\n      <th>...</th>\n      <td>...</td>\n      <td>...</td>\n    </tr>\n    <tr>\n      <th>chevrolet camaro</th>\n      <td>2950.0</td>\n      <td>82</td>\n    </tr>\n    <tr>\n      <th>ford mustang gl</th>\n      <td>2790.0</td>\n      <td>82</td>\n    </tr>\n    <tr>\n      <th>vw pickup</th>\n      <td>2130.0</td>\n      <td>82</td>\n    </tr>\n    <tr>\n      <th>dodge rampage</th>\n      <td>2295.0</td>\n      <td>82</td>\n    </tr>\n    <tr>\n      <th>ford ranger</th>\n      <td>2625.0</td>\n      <td>82</td>\n    </tr>\n  </tbody>\n</table>\n<p>387 rows × 2 columns</p>\n</div>"
          },
          "metadata": {}
        }
      ],
      "execution_count": 351
    },
    {
      "cell_type": "code",
      "source": "Auto_re.loc[\"ford torino\", [\"weight\",\"year\",\"origin\"]]",
      "metadata": {
        "trusted": true
      },
      "outputs": [
        {
          "execution_count": 352,
          "output_type": "execute_result",
          "data": {
            "text/plain": "weight    3449.0\nyear        70.0\norigin       1.0\nName: ford torino, dtype: float64"
          },
          "metadata": {}
        }
      ],
      "execution_count": 352
    },
    {
      "cell_type": "code",
      "source": "# suppose we want to create a dataframe that consists of weights and origins and haivng year greater than 80\nidx_80 = Auto['year'] > 81\nAuto_new = Auto.loc[idx_80, [\"weight\",\"origin\"]]\nprint(Auto_new)",
      "metadata": {
        "trusted": true
      },
      "outputs": [
        {
          "name": "stdout",
          "text": "     weight  origin\n367  2605.0       1\n368  2640.0       1\n369  2395.0       1\n370  2575.0       1\n371  2525.0       1\n372  2735.0       1\n373  2865.0       1\n374  1980.0       2\n375  2025.0       3\n376  1970.0       3\n377  2125.0       1\n378  2125.0       1\n379  2160.0       3\n380  2205.0       3\n381  2245.0       3\n382  1965.0       3\n383  1965.0       3\n384  1995.0       3\n385  2945.0       1\n386  3015.0       1\n387  2585.0       1\n388  2835.0       1\n389  2665.0       3\n390  2370.0       1\n391  2950.0       1\n392  2790.0       1\n393  2130.0       2\n394  2295.0       1\n395  2625.0       1\n396  2720.0       1\n",
          "output_type": "stream"
        }
      ],
      "execution_count": 359
    },
    {
      "cell_type": "code",
      "source": "# lambda function is a better choice to filter data by given condition\nresult = Auto_re.loc[lambda df: df['year'] > 81, [\"weight\", \"origin\"]]\nresult",
      "metadata": {
        "trusted": true
      },
      "outputs": [
        {
          "execution_count": 362,
          "output_type": "execute_result",
          "data": {
            "text/plain": "                                   weight  origin\nname                                             \nchevrolet cavalier                 2605.0       1\nchevrolet cavalier wagon           2640.0       1\nchevrolet cavalier 2-door          2395.0       1\npontiac j2000 se hatchback         2575.0       1\ndodge aries se                     2525.0       1\npontiac phoenix                    2735.0       1\nford fairmont futura               2865.0       1\nvolkswagen rabbit l                1980.0       2\nmazda glc custom l                 2025.0       3\nmazda glc custom                   1970.0       3\nplymouth horizon miser             2125.0       1\nmercury lynx l                     2125.0       1\nnissan stanza xe                   2160.0       3\nhonda accord                       2205.0       3\ntoyota corolla                     2245.0       3\nhonda civic                        1965.0       3\nhonda civic (auto)                 1965.0       3\ndatsun 310 gx                      1995.0       3\nbuick century limited              2945.0       1\noldsmobile cutlass ciera (diesel)  3015.0       1\nchrysler lebaron medallion         2585.0       1\nford granada l                     2835.0       1\ntoyota celica gt                   2665.0       3\ndodge charger 2.2                  2370.0       1\nchevrolet camaro                   2950.0       1\nford mustang gl                    2790.0       1\nvw pickup                          2130.0       2\ndodge rampage                      2295.0       1\nford ranger                        2625.0       1\nchevy s-10                         2720.0       1",
            "text/html": "<div>\n<style scoped>\n    .dataframe tbody tr th:only-of-type {\n        vertical-align: middle;\n    }\n\n    .dataframe tbody tr th {\n        vertical-align: top;\n    }\n\n    .dataframe thead th {\n        text-align: right;\n    }\n</style>\n<table border=\"1\" class=\"dataframe\">\n  <thead>\n    <tr style=\"text-align: right;\">\n      <th></th>\n      <th>weight</th>\n      <th>origin</th>\n    </tr>\n    <tr>\n      <th>name</th>\n      <th></th>\n      <th></th>\n    </tr>\n  </thead>\n  <tbody>\n    <tr>\n      <th>chevrolet cavalier</th>\n      <td>2605.0</td>\n      <td>1</td>\n    </tr>\n    <tr>\n      <th>chevrolet cavalier wagon</th>\n      <td>2640.0</td>\n      <td>1</td>\n    </tr>\n    <tr>\n      <th>chevrolet cavalier 2-door</th>\n      <td>2395.0</td>\n      <td>1</td>\n    </tr>\n    <tr>\n      <th>pontiac j2000 se hatchback</th>\n      <td>2575.0</td>\n      <td>1</td>\n    </tr>\n    <tr>\n      <th>dodge aries se</th>\n      <td>2525.0</td>\n      <td>1</td>\n    </tr>\n    <tr>\n      <th>pontiac phoenix</th>\n      <td>2735.0</td>\n      <td>1</td>\n    </tr>\n    <tr>\n      <th>ford fairmont futura</th>\n      <td>2865.0</td>\n      <td>1</td>\n    </tr>\n    <tr>\n      <th>volkswagen rabbit l</th>\n      <td>1980.0</td>\n      <td>2</td>\n    </tr>\n    <tr>\n      <th>mazda glc custom l</th>\n      <td>2025.0</td>\n      <td>3</td>\n    </tr>\n    <tr>\n      <th>mazda glc custom</th>\n      <td>1970.0</td>\n      <td>3</td>\n    </tr>\n    <tr>\n      <th>plymouth horizon miser</th>\n      <td>2125.0</td>\n      <td>1</td>\n    </tr>\n    <tr>\n      <th>mercury lynx l</th>\n      <td>2125.0</td>\n      <td>1</td>\n    </tr>\n    <tr>\n      <th>nissan stanza xe</th>\n      <td>2160.0</td>\n      <td>3</td>\n    </tr>\n    <tr>\n      <th>honda accord</th>\n      <td>2205.0</td>\n      <td>3</td>\n    </tr>\n    <tr>\n      <th>toyota corolla</th>\n      <td>2245.0</td>\n      <td>3</td>\n    </tr>\n    <tr>\n      <th>honda civic</th>\n      <td>1965.0</td>\n      <td>3</td>\n    </tr>\n    <tr>\n      <th>honda civic (auto)</th>\n      <td>1965.0</td>\n      <td>3</td>\n    </tr>\n    <tr>\n      <th>datsun 310 gx</th>\n      <td>1995.0</td>\n      <td>3</td>\n    </tr>\n    <tr>\n      <th>buick century limited</th>\n      <td>2945.0</td>\n      <td>1</td>\n    </tr>\n    <tr>\n      <th>oldsmobile cutlass ciera (diesel)</th>\n      <td>3015.0</td>\n      <td>1</td>\n    </tr>\n    <tr>\n      <th>chrysler lebaron medallion</th>\n      <td>2585.0</td>\n      <td>1</td>\n    </tr>\n    <tr>\n      <th>ford granada l</th>\n      <td>2835.0</td>\n      <td>1</td>\n    </tr>\n    <tr>\n      <th>toyota celica gt</th>\n      <td>2665.0</td>\n      <td>3</td>\n    </tr>\n    <tr>\n      <th>dodge charger 2.2</th>\n      <td>2370.0</td>\n      <td>1</td>\n    </tr>\n    <tr>\n      <th>chevrolet camaro</th>\n      <td>2950.0</td>\n      <td>1</td>\n    </tr>\n    <tr>\n      <th>ford mustang gl</th>\n      <td>2790.0</td>\n      <td>1</td>\n    </tr>\n    <tr>\n      <th>vw pickup</th>\n      <td>2130.0</td>\n      <td>2</td>\n    </tr>\n    <tr>\n      <th>dodge rampage</th>\n      <td>2295.0</td>\n      <td>1</td>\n    </tr>\n    <tr>\n      <th>ford ranger</th>\n      <td>2625.0</td>\n      <td>1</td>\n    </tr>\n    <tr>\n      <th>chevy s-10</th>\n      <td>2720.0</td>\n      <td>1</td>\n    </tr>\n  </tbody>\n</table>\n</div>"
          },
          "metadata": {}
        }
      ],
      "execution_count": 362
    },
    {
      "cell_type": "code",
      "source": "# filter weight and origin if origin > 2 and year > 81\nres = Auto_re.loc[lambda df: (df['origin'] > 2) & (df['year'] > 81), [\"weight\", \"origin\"]]\nres",
      "metadata": {
        "trusted": true
      },
      "outputs": [
        {
          "execution_count": 375,
          "output_type": "execute_result",
          "data": {
            "text/plain": "                    weight  origin\nname                              \nmazda glc custom l  2025.0       3\nmazda glc custom    1970.0       3\nnissan stanza xe    2160.0       3\nhonda accord        2205.0       3\ntoyota corolla      2245.0       3\nhonda civic         1965.0       3\nhonda civic (auto)  1965.0       3\ndatsun 310 gx       1995.0       3\ntoyota celica gt    2665.0       3",
            "text/html": "<div>\n<style scoped>\n    .dataframe tbody tr th:only-of-type {\n        vertical-align: middle;\n    }\n\n    .dataframe tbody tr th {\n        vertical-align: top;\n    }\n\n    .dataframe thead th {\n        text-align: right;\n    }\n</style>\n<table border=\"1\" class=\"dataframe\">\n  <thead>\n    <tr style=\"text-align: right;\">\n      <th></th>\n      <th>weight</th>\n      <th>origin</th>\n    </tr>\n    <tr>\n      <th>name</th>\n      <th></th>\n      <th></th>\n    </tr>\n  </thead>\n  <tbody>\n    <tr>\n      <th>mazda glc custom l</th>\n      <td>2025.0</td>\n      <td>3</td>\n    </tr>\n    <tr>\n      <th>mazda glc custom</th>\n      <td>1970.0</td>\n      <td>3</td>\n    </tr>\n    <tr>\n      <th>nissan stanza xe</th>\n      <td>2160.0</td>\n      <td>3</td>\n    </tr>\n    <tr>\n      <th>honda accord</th>\n      <td>2205.0</td>\n      <td>3</td>\n    </tr>\n    <tr>\n      <th>toyota corolla</th>\n      <td>2245.0</td>\n      <td>3</td>\n    </tr>\n    <tr>\n      <th>honda civic</th>\n      <td>1965.0</td>\n      <td>3</td>\n    </tr>\n    <tr>\n      <th>honda civic (auto)</th>\n      <td>1965.0</td>\n      <td>3</td>\n    </tr>\n    <tr>\n      <th>datsun 310 gx</th>\n      <td>1995.0</td>\n      <td>3</td>\n    </tr>\n    <tr>\n      <th>toyota celica gt</th>\n      <td>2665.0</td>\n      <td>3</td>\n    </tr>\n  </tbody>\n</table>\n</div>"
          },
          "metadata": {}
        }
      ],
      "execution_count": 375
    },
    {
      "cell_type": "code",
      "source": "# for loops",
      "metadata": {
        "trusted": true
      },
      "outputs": [],
      "execution_count": 376
    },
    {
      "cell_type": "code",
      "source": "cities = [\"Sydney\", \"Delhi\", \"London\", \"Tokyo\", \"Moscow\", \"Istanbul\", \"Rio\", \"Seattle\", \"Oslo\"]\narr = [21, 39, 90, 81, 73, 74, 65, 38, 17, 28, 52]\n\nfor city in cities:\n    print(city)",
      "metadata": {
        "trusted": true
      },
      "outputs": [
        {
          "name": "stdout",
          "text": "Sydney\nDelhi\nLondon\nTokyo\nMoscow\nIstanbul\nRio\nSeattle\nOslo\n",
          "output_type": "stream"
        }
      ],
      "execution_count": 378
    },
    {
      "cell_type": "code",
      "source": "total = 0\nfor num in arr:\n    total += num\nprint(total)\n",
      "metadata": {
        "trusted": true
      },
      "outputs": [
        {
          "name": "stdout",
          "text": "578\n",
          "output_type": "stream"
        }
      ],
      "execution_count": 388
    },
    {
      "cell_type": "code",
      "source": "sum = 0\nfor value, weight in zip([1,2,3], [3,0,5]):\n    sum += value*weight\n    \nsum",
      "metadata": {
        "trusted": true
      },
      "outputs": [
        {
          "execution_count": 391,
          "output_type": "execute_result",
          "data": {
            "text/plain": "18"
          },
          "metadata": {}
        }
      ],
      "execution_count": 391
    },
    {
      "cell_type": "code",
      "source": "print(\"hello\")",
      "metadata": {
        "trusted": true
      },
      "outputs": [],
      "execution_count": null
    },
    {
      "cell_type": "code",
      "source": "",
      "metadata": {
        "trusted": true
      },
      "outputs": [],
      "execution_count": null
    }
  ]
}