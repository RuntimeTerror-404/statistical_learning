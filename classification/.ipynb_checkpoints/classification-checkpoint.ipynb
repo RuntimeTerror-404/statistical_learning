{
 "cells": [
  {
   "cell_type": "code",
   "execution_count": 1,
   "id": "f39da986-f543-4348-88d2-d589e8b17423",
   "metadata": {},
   "outputs": [
    {
     "name": "stdout",
     "output_type": "stream",
     "text": [
      "classification\n"
     ]
    }
   ],
   "source": [
    "# Classification implementation...\n",
    "print(\"classification\")"
   ]
  },
  {
   "cell_type": "code",
   "execution_count": 7,
   "id": "2e3b2669-48b9-4774-8902-60a44a18d734",
   "metadata": {},
   "outputs": [],
   "source": [
    "# in the basic terms classfication roughly has 5 terms for implemenetation:\n",
    "# 1. Input data and features\n",
    "# 2. Label and classes\n",
    "# 3. Model and training data\n",
    "# 4. Testing data\n",
    "# 5. Accuracy"
   ]
  },
  {
   "cell_type": "code",
   "execution_count": 8,
   "id": "fd12d03e-808a-4a50-9d4c-d44705d8c87a",
   "metadata": {},
   "outputs": [],
   "source": [
    "# import necessary libraries....\n",
    "\n",
    "import pandas as pd\n",
    "import numpy as np\n",
    "from sklearn.model_selection import train_test_split\n",
    "import matplotlib.pyplot as plt\n",
    "from sklearn.tree import DecisionTreeClassifier, export_text, plot_tree\n",
    "from sklearn.metrics import accuracy_score"
   ]
  },
  {
   "cell_type": "code",
   "execution_count": null,
   "id": "8a206a6b-00ce-419a-a396-c5454a5a00c3",
   "metadata": {},
   "outputs": [],
   "source": []
  }
 ],
 "metadata": {
  "kernelspec": {
   "display_name": "Python 3 (ipykernel)",
   "language": "python",
   "name": "python3"
  },
  "language_info": {
   "codemirror_mode": {
    "name": "ipython",
    "version": 3
   },
   "file_extension": ".py",
   "mimetype": "text/x-python",
   "name": "python",
   "nbconvert_exporter": "python",
   "pygments_lexer": "ipython3",
   "version": "3.10.4"
  }
 },
 "nbformat": 4,
 "nbformat_minor": 5
}
