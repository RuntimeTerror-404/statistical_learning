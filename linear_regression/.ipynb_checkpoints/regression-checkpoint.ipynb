{
 "cells": [
  {
   "cell_type": "code",
   "execution_count": 3,
   "metadata": {},
   "outputs": [],
   "source": [
    "# coding implementation of multiple linear regression\n",
    "\n",
    "# problem: house price prediction based on size of house, distane to city center and number of bedrooms"
   ]
  },
  {
   "cell_type": "code",
   "execution_count": 5,
   "metadata": {},
   "outputs": [],
   "source": [
    "# import necessary modules and packages\n",
    "\n",
    "import numpy as np\n",
    "from sklearn.linear_model import LinearRegression"
   ]
  },
  {
   "cell_type": "code",
   "execution_count": 13,
   "metadata": {},
   "outputs": [],
   "source": [
    "# Data: X is predictor or independent variable, Y is predicted output or dependent variable\n",
    "X = np.array([\n",
    "    [1500, 3, 5],\n",
    "    [2000, 4, 3],\n",
    "    [1200, 2, 7],\n",
    "    [1800, 3, 4],\n",
    "    [2500, 4, 2],\n",
    "    [1600, 3, 6],\n",
    "    [2100, 4, 4],\n",
    "    [1300, 2, 8],\n",
    "    [1900, 3, 3],\n",
    "    [2200, 4, 5]\n",
    "])\n",
    "# X contains size, bedrooms and distance to city\n",
    "\n",
    "# y contains price of the houses\n",
    "y = np.array([200000, 300000, 150000, 250000, 400000, 220000, 320000, 170000, 280000, 350000])\n"
   ]
  },
  {
   "cell_type": "code",
   "execution_count": 14,
   "metadata": {},
   "outputs": [
    {
     "data": {
      "text/html": [
       "<style>#sk-container-id-3 {color: black;}#sk-container-id-3 pre{padding: 0;}#sk-container-id-3 div.sk-toggleable {background-color: white;}#sk-container-id-3 label.sk-toggleable__label {cursor: pointer;display: block;width: 100%;margin-bottom: 0;padding: 0.3em;box-sizing: border-box;text-align: center;}#sk-container-id-3 label.sk-toggleable__label-arrow:before {content: \"▸\";float: left;margin-right: 0.25em;color: #696969;}#sk-container-id-3 label.sk-toggleable__label-arrow:hover:before {color: black;}#sk-container-id-3 div.sk-estimator:hover label.sk-toggleable__label-arrow:before {color: black;}#sk-container-id-3 div.sk-toggleable__content {max-height: 0;max-width: 0;overflow: hidden;text-align: left;background-color: #f0f8ff;}#sk-container-id-3 div.sk-toggleable__content pre {margin: 0.2em;color: black;border-radius: 0.25em;background-color: #f0f8ff;}#sk-container-id-3 input.sk-toggleable__control:checked~div.sk-toggleable__content {max-height: 200px;max-width: 100%;overflow: auto;}#sk-container-id-3 input.sk-toggleable__control:checked~label.sk-toggleable__label-arrow:before {content: \"▾\";}#sk-container-id-3 div.sk-estimator input.sk-toggleable__control:checked~label.sk-toggleable__label {background-color: #d4ebff;}#sk-container-id-3 div.sk-label input.sk-toggleable__control:checked~label.sk-toggleable__label {background-color: #d4ebff;}#sk-container-id-3 input.sk-hidden--visually {border: 0;clip: rect(1px 1px 1px 1px);clip: rect(1px, 1px, 1px, 1px);height: 1px;margin: -1px;overflow: hidden;padding: 0;position: absolute;width: 1px;}#sk-container-id-3 div.sk-estimator {font-family: monospace;background-color: #f0f8ff;border: 1px dotted black;border-radius: 0.25em;box-sizing: border-box;margin-bottom: 0.5em;}#sk-container-id-3 div.sk-estimator:hover {background-color: #d4ebff;}#sk-container-id-3 div.sk-parallel-item::after {content: \"\";width: 100%;border-bottom: 1px solid gray;flex-grow: 1;}#sk-container-id-3 div.sk-label:hover label.sk-toggleable__label {background-color: #d4ebff;}#sk-container-id-3 div.sk-serial::before {content: \"\";position: absolute;border-left: 1px solid gray;box-sizing: border-box;top: 0;bottom: 0;left: 50%;z-index: 0;}#sk-container-id-3 div.sk-serial {display: flex;flex-direction: column;align-items: center;background-color: white;padding-right: 0.2em;padding-left: 0.2em;position: relative;}#sk-container-id-3 div.sk-item {position: relative;z-index: 1;}#sk-container-id-3 div.sk-parallel {display: flex;align-items: stretch;justify-content: center;background-color: white;position: relative;}#sk-container-id-3 div.sk-item::before, #sk-container-id-3 div.sk-parallel-item::before {content: \"\";position: absolute;border-left: 1px solid gray;box-sizing: border-box;top: 0;bottom: 0;left: 50%;z-index: -1;}#sk-container-id-3 div.sk-parallel-item {display: flex;flex-direction: column;z-index: 1;position: relative;background-color: white;}#sk-container-id-3 div.sk-parallel-item:first-child::after {align-self: flex-end;width: 50%;}#sk-container-id-3 div.sk-parallel-item:last-child::after {align-self: flex-start;width: 50%;}#sk-container-id-3 div.sk-parallel-item:only-child::after {width: 0;}#sk-container-id-3 div.sk-dashed-wrapped {border: 1px dashed gray;margin: 0 0.4em 0.5em 0.4em;box-sizing: border-box;padding-bottom: 0.4em;background-color: white;}#sk-container-id-3 div.sk-label label {font-family: monospace;font-weight: bold;display: inline-block;line-height: 1.2em;}#sk-container-id-3 div.sk-label-container {text-align: center;}#sk-container-id-3 div.sk-container {/* jupyter's `normalize.less` sets `[hidden] { display: none; }` but bootstrap.min.css set `[hidden] { display: none !important; }` so we also need the `!important` here to be able to override the default hidden behavior on the sphinx rendered scikit-learn.org. See: https://github.com/scikit-learn/scikit-learn/issues/21755 */display: inline-block !important;position: relative;}#sk-container-id-3 div.sk-text-repr-fallback {display: none;}</style><div id=\"sk-container-id-3\" class=\"sk-top-container\"><div class=\"sk-text-repr-fallback\"><pre>LinearRegression()</pre><b>In a Jupyter environment, please rerun this cell to show the HTML representation or trust the notebook. <br />On GitHub, the HTML representation is unable to render, please try loading this page with nbviewer.org.</b></div><div class=\"sk-container\" hidden><div class=\"sk-item\"><div class=\"sk-estimator sk-toggleable\"><input class=\"sk-toggleable__control sk-hidden--visually\" id=\"sk-estimator-id-3\" type=\"checkbox\" checked><label for=\"sk-estimator-id-3\" class=\"sk-toggleable__label sk-toggleable__label-arrow\">LinearRegression</label><div class=\"sk-toggleable__content\"><pre>LinearRegression()</pre></div></div></div></div></div>"
      ],
      "text/plain": [
       "LinearRegression()"
      ]
     },
     "execution_count": 14,
     "metadata": {},
     "output_type": "execute_result"
    }
   ],
   "source": [
    "# construct X and y to form a model\n",
    "model = LinearRegression()\n",
    "\n",
    "model.fit(X, y)"
   ]
  },
  {
   "cell_type": "code",
   "execution_count": 20,
   "metadata": {},
   "outputs": [
    {
     "data": {
      "text/plain": [
       "array([  212.45827011, -1036.41881639,  3998.48254932])"
      ]
     },
     "execution_count": 20,
     "metadata": {},
     "output_type": "execute_result"
    }
   ],
   "source": [
    "# evaluate coefficients of every independent variables and intercept for multiple linear regression equation\n",
    "# equation: output(y) = intercept + coefficient1*variable1 + coefficient2*variable2------------coefficientk*variablek\n",
    "\n",
    "intercept = model.intercept_\n",
    "coefficients = model.coef_\n",
    "# coefficients"
   ]
  },
  {
   "cell_type": "code",
   "execution_count": 24,
   "metadata": {},
   "outputs": [
    {
     "name": "stdout",
     "output_type": "stream",
     "text": [
      "finalized multiple linear regression: \n",
      "Price = -136025.80 + 212.46(size) + -1036.42(bedrooms) + 3998.48(distance to city center)\n"
     ]
    }
   ],
   "source": [
    "# put all the values in the equation\n",
    "equation = f\"Price = {intercept:.2f} + {coefficients[0]:.2f}(size) + {coefficients[1]:.2f}(bedrooms) + {coefficients[2]:.2f}(distance to city center)\"\n",
    "\n",
    "print(\"finalized multiple linear regression: \")\n",
    "print(equation)"
   ]
  },
  {
   "cell_type": "code",
   "execution_count": 26,
   "metadata": {},
   "outputs": [
    {
     "name": "stdout",
     "output_type": "stream",
     "text": [
      "Predicted Price for the New House: $301,775.42\n"
     ]
    }
   ],
   "source": [
    "# prediction for a new house based on the model tested using previous dataset\n",
    "new_house = np.array([[2000, 3, 4]]);\n",
    "predicted_price = model.predict(new_house);\n",
    "\n",
    "print(f\"Predicted Price for the New House: ${predicted_price[0]:,.2f}\")\n",
    "\n"
   ]
  },
  {
   "cell_type": "code",
   "execution_count": 27,
   "metadata": {},
   "outputs": [],
   "source": [
    "# OLS(ordinary least squares) implementation....."
   ]
  },
  {
   "cell_type": "code",
   "execution_count": 31,
   "metadata": {},
   "outputs": [],
   "source": [
    "# import necessary modules and setup input and output variables.\n",
    "\n",
    "import numpy as np\n",
    "import pandas as pd\n",
    "import matplotlib.pyplot as plt\n",
    "import statsmodels.api as sm  # statsmodels library is used to measure OLS\n",
    "\n",
    "from sklearn.model_selection import train_test_split"
   ]
  },
  {
   "cell_type": "code",
   "execution_count": 44,
   "metadata": {},
   "outputs": [],
   "source": [
    "# simulate simple regression dataset\n",
    "\n",
    "np.random.seed(42)\n",
    "X = np.random.rand(30, 1) * 10\n",
    "epsilon = np.random.rand(30, 1) * 2  # random noise or error term\n",
    "y = 3 * X + 2 + epsilon  # here, intercept and slope are considered as given"
   ]
  },
  {
   "cell_type": "code",
   "execution_count": 51,
   "metadata": {},
   "outputs": [],
   "source": [
    "# Create a DataFrame for easier manipulation (or shape the data)\n",
    "data = pd.DataFrame({'X': X.flatten(), 'y': y.flatten()})\n",
    "# data"
   ]
  },
  {
   "cell_type": "code",
   "execution_count": 57,
   "metadata": {},
   "outputs": [],
   "source": [
    "# Split the dataset into training and testing sets\n",
    "X_train, X_test, y_train, y_test = train_test_split(data[[\"X\"]], data['y'], test_size=0.2, random_state=42)"
   ]
  },
  {
   "cell_type": "code",
   "execution_count": 70,
   "metadata": {},
   "outputs": [],
   "source": [
    "# Add a constant term to the independent variables matrix for the intercept in the model\n",
    "X_train = sm.add_constant(X_train)\n",
    "# X_train\n",
    "# y_test"
   ]
  },
  {
   "cell_type": "code",
   "execution_count": 60,
   "metadata": {},
   "outputs": [
    {
     "data": {
      "text/plain": [
       "<statsmodels.regression.linear_model.RegressionResultsWrapper at 0xd63b0e8>"
      ]
     },
     "execution_count": 60,
     "metadata": {},
     "output_type": "execute_result"
    }
   ],
   "source": [
    "# fit the OLS model to estimate parameters \n",
    "model = sm.OLS(y_train, X_train).fit()\n",
    "model"
   ]
  },
  {
   "cell_type": "code",
   "execution_count": 62,
   "metadata": {},
   "outputs": [
    {
     "name": "stdout",
     "output_type": "stream",
     "text": [
      "                            OLS Regression Results                            \n",
      "==============================================================================\n",
      "Dep. Variable:                      y   R-squared:                       0.994\n",
      "Model:                            OLS   Adj. R-squared:                  0.994\n",
      "Method:                 Least Squares   F-statistic:                     3734.\n",
      "Date:                Thu, 28 Dec 2023   Prob (F-statistic):           4.70e-26\n",
      "Time:                        16:27:27   Log-Likelihood:                -24.722\n",
      "No. Observations:                  24   AIC:                             53.44\n",
      "Df Residuals:                      22   BIC:                             55.80\n",
      "Df Model:                           1                                         \n",
      "Covariance Type:            nonrobust                                         \n",
      "==============================================================================\n",
      "                 coef    std err          t      P>|t|      [0.025      0.975]\n",
      "------------------------------------------------------------------------------\n",
      "const          3.1030      0.253     12.271      0.000       2.579       3.627\n",
      "X              2.9661      0.049     61.106      0.000       2.865       3.067\n",
      "==============================================================================\n",
      "Omnibus:                       11.490   Durbin-Watson:                   1.827\n",
      "Prob(Omnibus):                  0.003   Jarque-Bera (JB):                2.494\n",
      "Skew:                           0.240   Prob(JB):                        0.287\n",
      "Kurtosis:                       1.495   Cond. No.                         9.34\n",
      "==============================================================================\n",
      "\n",
      "Notes:\n",
      "[1] Standard Errors assume that the covariance matrix of the errors is correctly specified.\n"
     ]
    }
   ],
   "source": [
    "# print te summary of the regression\n",
    "print(model.summary())"
   ]
  },
  {
   "cell_type": "code",
   "execution_count": 63,
   "metadata": {},
   "outputs": [],
   "source": [
    "# evaluate predictions on test set (X testing variable and y testing variables)\n",
    "\n",
    "X_test = sm.add_constant(X_test);\n",
    "y_pred = model.predict(X_test);\n"
   ]
  },
  {
   "cell_type": "code",
   "execution_count": 72,
   "metadata": {},
   "outputs": [
    {
     "data": {
      "image/png": "[encoded data removed]",
      "text/plain": [
       "<Figure size 640x480 with 1 Axes>"
      ]
     },
     "metadata": {},
     "output_type": "display_data"
    }
   ],
   "source": [
    "# Visualize predictions against actual values\n",
    "\n",
    "plt.scatter(X_test['X'], y_test, label=\"Actual\")\n",
    "plt.scatter(X_test['X'], y_pred, label=\"Predicted\", marker='x')\n",
    "plt.xlabel(\"X\")\n",
    "plt.ylabel(\"y\")\n",
    "plt.title(\"Actual vs Predicted Values\")\n",
    "plt.legend()\n",
    "plt.show()"
   ]
  },
  {
   "cell_type": "code",
   "execution_count": 1,
   "metadata": {},
   "outputs": [
    {
     "data": {
      "image/png": "[encoded data removed]",
      "text/plain": [
       "<Figure size 640x480 with 1 Axes>"
      ]
     },
     "metadata": {},
     "output_type": "display_data"
    }
   ],
   "source": [
    "# let's practice how to draw a diagram for X and Y using matplotlib\n",
    "import matplotlib.pyplot as plt2\n",
    "import numpy as np\n",
    "import pandas as pd\n",
    "\n",
    "input = [21, 32, 11, 40, 20, 56, 44];\n",
    "output = [1000, 670, 990, 1126, 1566, 874, 1091];\n",
    "\n",
    "pred_input = [19, 30, 13, 24, 36, 31, 20];\n",
    "pred_output = [798, 1300, 1178, 595, 930, 1250, 1040];\n",
    "\n",
    "plt2.scatter(input, output,label=\"Actual\")\n",
    "plt2.scatter(pred_input, pred_output, label=\"Predicted\", marker=\"*\")\n",
    "plt2.xlabel(\"Input\")\n",
    "plt2.ylabel(\"Output\")\n",
    "plt2.title(\"Input vs Output\")\n",
    "plt2.legend()\n",
    "plt2.show()\n"
   ]
  },
  {
   "cell_type": "code",
   "execution_count": 6,
   "metadata": {},
   "outputs": [],
   "source": [
    "#  feature scaling and Normalization\n",
    "# suppose we have two input variables and scaling for both the vars are very different\n",
    "\n",
    "Number_of_Bedrooms = [1, 2, 3, 4, 5]\n",
    "Square_Footage = [800, 1200, 1500, 2000, 2500]\n",
    "\n",
    "# second variable has very wide scaling as comapare to first variable. Hence linear regression algorithm might give more importance to \n",
    "# second variable because of it's large scaling limits that might leads to biased coefficients."
   ]
  },
  {
   "cell_type": "code",
   "execution_count": 12,
   "metadata": {},
   "outputs": [
    {
     "data": {
      "text/plain": [
       "array([[0.  ],\n",
       "       [0.25],\n",
       "       [0.5 ],\n",
       "       [0.75],\n",
       "       [1.  ]])"
      ]
     },
     "execution_count": 12,
     "metadata": {},
     "output_type": "execute_result"
    }
   ],
   "source": [
    "# from sklearn.prepocessing import MinMaxScaler\n",
    "from sklearn.preprocessing import MinMaxScaler\n",
    "scaler = MinMaxScaler()\n",
    "\n",
    "Number_of_Bedrooms_scaled = scaler.fit_transform(np.array([Number_of_Bedrooms]).reshape(-1,1))\n",
    "Square_Footage_scaled = scaler.fit_transform(np.array([Square_Footage]).reshape(-1,1))\n",
    "Number_of_Bedrooms_scaled\n",
    "# Square_Footage_scaled"
   ]
  },
  {
   "cell_type": "code",
   "execution_count": 15,
   "metadata": {},
   "outputs": [],
   "source": [
    "# Model evaluation and model validation\n",
    "# mean_squared_error(MSE) and R-square(coefficient of determination)\n",
    "\n",
    "import numpy as np\n",
    "import pandas as pd\n",
    "import matplotlib.pyplot as plt3\n",
    "from sklearn.model_selection import train_test_split\n",
    "from sklearn.linear_model import LinearRegression\n",
    "from sklearn.metrics import mean_squared_error, r2_score"
   ]
  },
  {
   "cell_type": "code",
   "execution_count": 18,
   "metadata": {},
   "outputs": [],
   "source": [
    "np.random.seed(42)\n",
    "X = np.random.rand(50, 1) * 10\n",
    "epsilon = np.random.rand(50, 1) * 2\n",
    "y = 4 + 3 * X + epsilon\n",
    "\n"
   ]
  },
  {
   "cell_type": "code",
   "execution_count": 21,
   "metadata": {},
   "outputs": [],
   "source": [
    "# split the data in train and test categories\n",
    "X_train, X_test, y_train, y_test = train_test_split(X, y, test_size=0.3, random_state=42)\n"
   ]
  },
  {
   "cell_type": "code",
   "execution_count": 23,
   "metadata": {},
   "outputs": [],
   "source": [
    "# add the constant term in input variable to get intercept\n",
    "# train the model with training data\n",
    "\n",
    "model = LinearRegression()\n",
    "model.fit(X_train, y_train);"
   ]
  },
  {
   "cell_type": "code",
   "execution_count": 28,
   "metadata": {},
   "outputs": [
    {
     "data": {
      "text/plain": [
       "array([[11.25351642],\n",
       "       [18.11155135],\n",
       "       [23.15068743],\n",
       "       [24.80571377],\n",
       "       [20.65844632],\n",
       "       [21.31933925],\n",
       "       [10.87224266],\n",
       "       [28.49804822],\n",
       "       [ 6.81961124],\n",
       "       [13.62840139],\n",
       "       [29.92095206],\n",
       "       [ 9.55805962],\n",
       "       [ 7.80161094],\n",
       "       [22.95712519],\n",
       "       [22.88317452]])"
      ]
     },
     "execution_count": 28,
     "metadata": {},
     "output_type": "execute_result"
    }
   ],
   "source": [
    "# make the predictions on testing data set using previous trained model\n",
    "\n",
    "y_pred = model.predict(X_test);\n",
    "y_pred"
   ]
  },
  {
   "cell_type": "code",
   "execution_count": 31,
   "metadata": {},
   "outputs": [
    {
     "name": "stdout",
     "output_type": "stream",
     "text": [
      "mean squared error:  0.4020701141529262\n",
      "Coefficient of determination:  0.9926458124790257\n"
     ]
    }
   ],
   "source": [
    "# Evaluate the model using MSE and R2\n",
    "\n",
    "mse = mean_squared_error(y_test, y_pred)\n",
    "r2 = r2_score(y_test, y_pred)\n",
    "\n",
    "print(\"mean squared error: \", mse)\n",
    "print(\"Coefficient of determination: \", r2)"
   ]
  },
  {
   "cell_type": "code",
   "execution_count": 34,
   "metadata": {},
   "outputs": [
    {
     "data": {
      "image/png": "[encoded data removed]",
      "text/plain": [
       "<Figure size 640x480 with 1 Axes>"
      ]
     },
     "metadata": {},
     "output_type": "display_data"
    }
   ],
   "source": [
    "# visualize the data (tested and predicted)\n",
    "\n",
    "plt3.scatter(X_test, y_test, label=\"Actual\", color=\"black\")\n",
    "# plt3.scatter(X_test, y_pred, label=\"Predicted\", marker=\"*\")\n",
    "plt3.scatter(X_test, y_pred, label=\"Predicted\", color=\"blue\", linewidth=3)\n",
    "plt3.xlabel(\"X\")\n",
    "plt3.ylabel(\"Y\")\n",
    "plt3.title(\"Actual output vs Predicted output\")\n",
    "plt3.legend()\n",
    "plt3.show()"
   ]
  },
  {
   "cell_type": "code",
   "execution_count": 6,
   "metadata": {},
   "outputs": [
    {
     "name": "stdout",
     "output_type": "stream",
     "text": [
      "notebook code has been pushed to github successfully\n"
     ]
    }
   ],
   "source": [
    "print(\"notebook code has been pushed to github successfully\")"
   ]
  },
  {
   "cell_type": "code",
   "execution_count": null,
   "metadata": {},
   "outputs": [],
   "source": []
  }
 ],
 "metadata": {
  "kernelspec": {
   "display_name": "Python 3 (ipykernel)",
   "language": "python",
   "name": "python3"
  },
  "language_info": {
   "codemirror_mode": {
    "name": "ipython",
    "version": 3
   },
   "file_extension": ".py",
   "mimetype": "text/x-python",
   "name": "python",
   "nbconvert_exporter": "python",
   "pygments_lexer": "ipython3",
   "version": "3.10.4"
  }
 },
 "nbformat": 4,
 "nbformat_minor": 4
}
