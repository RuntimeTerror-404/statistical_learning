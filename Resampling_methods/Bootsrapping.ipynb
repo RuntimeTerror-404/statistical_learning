{
 "cells": [
  {
   "cell_type": "markdown",
   "id": "17e36c90-42c7-446a-8c5e-183980322b57",
   "metadata": {},
   "source": [
    "### Bootstrapping......"
   ]
  },
  {
   "cell_type": "code",
   "execution_count": 1,
   "id": "7a85ff21-deee-4081-9359-ec550f1209d2",
   "metadata": {},
   "outputs": [],
   "source": [
    "# We will use bootstrapping technique to estimate variability in dataset to measure the average income of people in city"
   ]
  },
  {
   "cell_type": "code",
   "execution_count": 2,
   "id": "4d18f193-0470-4005-85e7-243e455c8824",
   "metadata": {},
   "outputs": [],
   "source": [
    "import numpy as np"
   ]
  },
  {
   "cell_type": "code",
   "execution_count": 3,
   "id": "21decf64-c1d1-4c55-9c13-d4d7e1af0382",
   "metadata": {},
   "outputs": [],
   "source": [
    "# parent dataset\n",
    "original_data = np.array([30000, 35000, 40000, 45000, 50000, 55000, 60000, 65000, 70000, 75000])"
   ]
  },
  {
   "cell_type": "code",
   "execution_count": 6,
   "id": "1eaa6065-c511-4758-b1ff-00e8cf9bce25",
   "metadata": {},
   "outputs": [],
   "source": [
    "# number of bootstrap samples to generate from parent dataset\n",
    "num_bootstrap_samples = 100\n",
    "\n",
    "# create an array to store mean of all bootstrap samples \n",
    "bootstrap_sample_means = []"
   ]
  },
  {
   "cell_type": "code",
   "execution_count": 8,
   "id": "d5a01e60-9d8b-4c3f-a375-6313584ccc1c",
   "metadata": {},
   "outputs": [],
   "source": [
    "# create random bootstrap samples(upto 100) from parent dataset and calculate mean of each bootstrap sample and store in array\n",
    "\n",
    "for i in range(num_bootstrap_samples):\n",
    "    bootstrap_sample = np.random.choice(original_data, size=len(original_data), replace=True)\n",
    "    bootstrap_sample_mean = np.mean(bootstrap_sample)\n",
    "\n",
    "    bootstrap_sample_means.append(bootstrap_sample_mean)\n",
    "\n"
   ]
  },
  {
   "cell_type": "code",
   "execution_count": 11,
   "id": "519c63aa-6946-4ed0-afd1-33e16e3f4a53",
   "metadata": {},
   "outputs": [
    {
     "data": {
      "text/plain": [
       "52030.0"
      ]
     },
     "execution_count": 11,
     "metadata": {},
     "output_type": "execute_result"
    }
   ],
   "source": [
    "# calculate mean and confidence_interval from bootstrap_sample_means collection\n",
    "\n",
    "mean_estimate = np.mean(bootstrap_sample_means)\n",
    "mean_estimate\n",
    "\n",
    "confidence_interval = np"
   ]
  },
  {
   "cell_type": "code",
   "execution_count": 16,
   "id": "c55e21d8-c717-4ce2-96fe-94fd044c08ca",
   "metadata": {},
   "outputs": [
    {
     "data": {
      "text/plain": [
       "array([44237.5, 61787.5])"
      ]
     },
     "execution_count": 16,
     "metadata": {},
     "output_type": "execute_result"
    }
   ],
   "source": [
    "# calculate confidence interval where 95% of the times true average income lies between the specific range.\n",
    "confidence_interval = np.percentile(bootstrap_sample_means, [2.5, 97.5])\n",
    "confidence_interval"
   ]
  },
  {
   "cell_type": "code",
   "execution_count": null,
   "id": "a90d4c72-482a-4e46-94ab-b8544588e026",
   "metadata": {},
   "outputs": [],
   "source": []
  },
  {
   "cell_type": "code",
   "execution_count": null,
   "id": "238852ca-fe70-4f04-995b-eb0b83ddcc19",
   "metadata": {},
   "outputs": [],
   "source": []
  }
 ],
 "metadata": {
  "kernelspec": {
   "display_name": "Python 3 (ipykernel)",
   "language": "python",
   "name": "python3"
  },
  "language_info": {
   "codemirror_mode": {
    "name": "ipython",
    "version": 3
   },
   "file_extension": ".py",
   "mimetype": "text/x-python",
   "name": "python",
   "nbconvert_exporter": "python",
   "pygments_lexer": "ipython3",
   "version": "3.10.4"
  }
 },
 "nbformat": 4,
 "nbformat_minor": 5
}
